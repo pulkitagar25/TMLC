{
 "cells": [
  {
   "cell_type": "markdown",
   "metadata": {},
   "source": [
    "# <span style=\"font-family:cursive;text-align:center\">⬇️ Import Libraries</span>\n"
   ]
  },
  {
   "cell_type": "code",
   "execution_count": 2,
   "metadata": {
    "execution": {
     "iopub.execute_input": "2024-02-02T04:31:05.047495Z",
     "iopub.status.busy": "2024-02-02T04:31:05.047042Z",
     "iopub.status.idle": "2024-02-02T04:31:07.669686Z",
     "shell.execute_reply": "2024-02-02T04:31:07.668725Z",
     "shell.execute_reply.started": "2024-02-02T04:31:05.047469Z"
    }
   },
   "outputs": [],
   "source": [
    "import numpy as np\n",
    "import pandas as pd\n",
    "import matplotlib.pyplot as plt\n",
    "import seaborn as sns\n",
    "\n",
    "import warnings\n",
    "warnings.filterwarnings('ignore')\n",
    "\n",
    "import missingno as mssno\n",
    "from sklearn.impute import SimpleImputer\n",
    "\n",
    "from sklearn.model_selection import train_test_split,KFold,cross_val_score,GridSearchCV,RandomizedSearchCV\n",
    "from sklearn.preprocessing import OneHotEncoder,LabelEncoder,OrdinalEncoder\n",
    "from imblearn.over_sampling import SMOTE,SMOTENC,RandomOverSampler\n",
    "from sklearn.metrics import accuracy_score,classification_report,f1_score,confusion_matrix,RocCurveDisplay,roc_curve,roc_auc_score\n",
    "\n",
    "from sklearn.feature_selection import mutual_info_classif,SelectKBest,chi2,f_classif\n",
    "from sklearn.linear_model import LogisticRegression\n",
    "from sklearn.neighbors import KNeighborsClassifier\n",
    "from sklearn.svm import SVC\n",
    "from sklearn.tree import DecisionTreeClassifier\n",
    "from sklearn.ensemble import RandomForestClassifier\n",
    "\n",
    "import joblib"
   ]
  },
  {
   "cell_type": "markdown",
   "metadata": {},
   "source": [
    "# <span style=\"font-family:cursive;text-align:center\">⬇️ Import Data</span>"
   ]
  },
  {
   "cell_type": "code",
   "execution_count": 3,
   "metadata": {
    "execution": {
     "iopub.execute_input": "2024-02-02T04:31:07.675957Z",
     "iopub.status.busy": "2024-02-02T04:31:07.673692Z",
     "iopub.status.idle": "2024-02-02T04:31:09.444179Z",
     "shell.execute_reply": "2024-02-02T04:31:09.443194Z",
     "shell.execute_reply.started": "2024-02-02T04:31:07.675922Z"
    }
   },
   "outputs": [],
   "source": [
    "df=pd.read_csv(\"data.csv\")"
   ]
  },
  {
   "cell_type": "code",
   "execution_count": 4,
   "metadata": {
    "execution": {
     "iopub.execute_input": "2024-02-02T04:31:09.44693Z",
     "iopub.status.busy": "2024-02-02T04:31:09.446562Z",
     "iopub.status.idle": "2024-02-02T04:31:09.487359Z",
     "shell.execute_reply": "2024-02-02T04:31:09.486312Z",
     "shell.execute_reply.started": "2024-02-02T04:31:09.4469Z"
    }
   },
   "outputs": [
    {
     "data": {
      "text/html": [
       "<div>\n",
       "<style scoped>\n",
       "    .dataframe tbody tr th:only-of-type {\n",
       "        vertical-align: middle;\n",
       "    }\n",
       "\n",
       "    .dataframe tbody tr th {\n",
       "        vertical-align: top;\n",
       "    }\n",
       "\n",
       "    .dataframe thead th {\n",
       "        text-align: right;\n",
       "    }\n",
       "</style>\n",
       "<table border=\"1\" class=\"dataframe\">\n",
       "  <thead>\n",
       "    <tr style=\"text-align: right;\">\n",
       "      <th></th>\n",
       "      <th>ID</th>\n",
       "      <th>age</th>\n",
       "      <th>gender</th>\n",
       "      <th>education</th>\n",
       "      <th>class</th>\n",
       "      <th>education_institute</th>\n",
       "      <th>marital_status</th>\n",
       "      <th>race</th>\n",
       "      <th>is_hispanic</th>\n",
       "      <th>employment_commitment</th>\n",
       "      <th>...</th>\n",
       "      <th>country_of_birth_mother</th>\n",
       "      <th>migration_code_change_in_msa</th>\n",
       "      <th>migration_prev_sunbelt</th>\n",
       "      <th>migration_code_move_within_reg</th>\n",
       "      <th>migration_code_change_in_reg</th>\n",
       "      <th>residence_1_year_ago</th>\n",
       "      <th>old_residence_reg</th>\n",
       "      <th>old_residence_state</th>\n",
       "      <th>importance_of_record</th>\n",
       "      <th>income_above_limit</th>\n",
       "    </tr>\n",
       "  </thead>\n",
       "  <tbody>\n",
       "    <tr>\n",
       "      <th>0</th>\n",
       "      <td>ID_TZ0000</td>\n",
       "      <td>79</td>\n",
       "      <td>Female</td>\n",
       "      <td>High school graduate</td>\n",
       "      <td>NaN</td>\n",
       "      <td>NaN</td>\n",
       "      <td>Widowed</td>\n",
       "      <td>White</td>\n",
       "      <td>All other</td>\n",
       "      <td>Not in labor force</td>\n",
       "      <td>...</td>\n",
       "      <td>US</td>\n",
       "      <td>?</td>\n",
       "      <td>?</td>\n",
       "      <td>?</td>\n",
       "      <td>?</td>\n",
       "      <td>NaN</td>\n",
       "      <td>NaN</td>\n",
       "      <td>NaN</td>\n",
       "      <td>1779.74</td>\n",
       "      <td>Below limit</td>\n",
       "    </tr>\n",
       "    <tr>\n",
       "      <th>1</th>\n",
       "      <td>ID_TZ0001</td>\n",
       "      <td>65</td>\n",
       "      <td>Female</td>\n",
       "      <td>High school graduate</td>\n",
       "      <td>NaN</td>\n",
       "      <td>NaN</td>\n",
       "      <td>Widowed</td>\n",
       "      <td>White</td>\n",
       "      <td>All other</td>\n",
       "      <td>Children or Armed Forces</td>\n",
       "      <td>...</td>\n",
       "      <td>US</td>\n",
       "      <td>unchanged</td>\n",
       "      <td>NaN</td>\n",
       "      <td>unchanged</td>\n",
       "      <td>unchanged</td>\n",
       "      <td>Same</td>\n",
       "      <td>NaN</td>\n",
       "      <td>NaN</td>\n",
       "      <td>2366.75</td>\n",
       "      <td>Below limit</td>\n",
       "    </tr>\n",
       "    <tr>\n",
       "      <th>2</th>\n",
       "      <td>ID_TZ0002</td>\n",
       "      <td>21</td>\n",
       "      <td>Male</td>\n",
       "      <td>12th grade no diploma</td>\n",
       "      <td>Federal government</td>\n",
       "      <td>NaN</td>\n",
       "      <td>Never married</td>\n",
       "      <td>Black</td>\n",
       "      <td>All other</td>\n",
       "      <td>Children or Armed Forces</td>\n",
       "      <td>...</td>\n",
       "      <td>US</td>\n",
       "      <td>unchanged</td>\n",
       "      <td>NaN</td>\n",
       "      <td>unchanged</td>\n",
       "      <td>unchanged</td>\n",
       "      <td>Same</td>\n",
       "      <td>NaN</td>\n",
       "      <td>NaN</td>\n",
       "      <td>1693.42</td>\n",
       "      <td>Below limit</td>\n",
       "    </tr>\n",
       "    <tr>\n",
       "      <th>3</th>\n",
       "      <td>ID_TZ0003</td>\n",
       "      <td>2</td>\n",
       "      <td>Female</td>\n",
       "      <td>Children</td>\n",
       "      <td>NaN</td>\n",
       "      <td>NaN</td>\n",
       "      <td>Never married</td>\n",
       "      <td>Asian or Pacific Islander</td>\n",
       "      <td>All other</td>\n",
       "      <td>Children or Armed Forces</td>\n",
       "      <td>...</td>\n",
       "      <td>India</td>\n",
       "      <td>unchanged</td>\n",
       "      <td>NaN</td>\n",
       "      <td>unchanged</td>\n",
       "      <td>unchanged</td>\n",
       "      <td>Same</td>\n",
       "      <td>NaN</td>\n",
       "      <td>NaN</td>\n",
       "      <td>1380.27</td>\n",
       "      <td>Below limit</td>\n",
       "    </tr>\n",
       "    <tr>\n",
       "      <th>4</th>\n",
       "      <td>ID_TZ0004</td>\n",
       "      <td>70</td>\n",
       "      <td>Male</td>\n",
       "      <td>High school graduate</td>\n",
       "      <td>NaN</td>\n",
       "      <td>NaN</td>\n",
       "      <td>Married-civilian spouse present</td>\n",
       "      <td>White</td>\n",
       "      <td>All other</td>\n",
       "      <td>Not in labor force</td>\n",
       "      <td>...</td>\n",
       "      <td>US</td>\n",
       "      <td>?</td>\n",
       "      <td>?</td>\n",
       "      <td>?</td>\n",
       "      <td>?</td>\n",
       "      <td>NaN</td>\n",
       "      <td>NaN</td>\n",
       "      <td>NaN</td>\n",
       "      <td>1580.79</td>\n",
       "      <td>Below limit</td>\n",
       "    </tr>\n",
       "  </tbody>\n",
       "</table>\n",
       "<p>5 rows × 43 columns</p>\n",
       "</div>"
      ],
      "text/plain": [
       "          ID  age   gender               education                class  \\\n",
       "0  ID_TZ0000   79   Female    High school graduate                  NaN   \n",
       "1  ID_TZ0001   65   Female    High school graduate                  NaN   \n",
       "2  ID_TZ0002   21     Male   12th grade no diploma   Federal government   \n",
       "3  ID_TZ0003    2   Female                Children                  NaN   \n",
       "4  ID_TZ0004   70     Male    High school graduate                  NaN   \n",
       "\n",
       "  education_institute                    marital_status  \\\n",
       "0                 NaN                           Widowed   \n",
       "1                 NaN                           Widowed   \n",
       "2                 NaN                     Never married   \n",
       "3                 NaN                     Never married   \n",
       "4                 NaN   Married-civilian spouse present   \n",
       "\n",
       "                         race is_hispanic      employment_commitment  ...  \\\n",
       "0                       White   All other         Not in labor force  ...   \n",
       "1                       White   All other   Children or Armed Forces  ...   \n",
       "2                       Black   All other   Children or Armed Forces  ...   \n",
       "3   Asian or Pacific Islander   All other   Children or Armed Forces  ...   \n",
       "4                       White   All other         Not in labor force  ...   \n",
       "\n",
       "  country_of_birth_mother  migration_code_change_in_msa  \\\n",
       "0                      US                             ?   \n",
       "1                      US                     unchanged   \n",
       "2                      US                     unchanged   \n",
       "3                   India                     unchanged   \n",
       "4                      US                             ?   \n",
       "\n",
       "   migration_prev_sunbelt migration_code_move_within_reg  \\\n",
       "0                       ?                              ?   \n",
       "1                     NaN                      unchanged   \n",
       "2                     NaN                      unchanged   \n",
       "3                     NaN                      unchanged   \n",
       "4                       ?                              ?   \n",
       "\n",
       "   migration_code_change_in_reg  residence_1_year_ago old_residence_reg  \\\n",
       "0                             ?                   NaN               NaN   \n",
       "1                     unchanged                  Same               NaN   \n",
       "2                     unchanged                  Same               NaN   \n",
       "3                     unchanged                  Same               NaN   \n",
       "4                             ?                   NaN               NaN   \n",
       "\n",
       "   old_residence_state importance_of_record  income_above_limit  \n",
       "0                  NaN              1779.74         Below limit  \n",
       "1                  NaN              2366.75         Below limit  \n",
       "2                  NaN              1693.42         Below limit  \n",
       "3                  NaN              1380.27         Below limit  \n",
       "4                  NaN              1580.79         Below limit  \n",
       "\n",
       "[5 rows x 43 columns]"
      ]
     },
     "execution_count": 4,
     "metadata": {},
     "output_type": "execute_result"
    }
   ],
   "source": [
    "df.head()"
   ]
  },
  {
   "cell_type": "code",
   "execution_count": 5,
   "metadata": {
    "execution": {
     "iopub.execute_input": "2024-02-02T04:31:09.488971Z",
     "iopub.status.busy": "2024-02-02T04:31:09.488603Z",
     "iopub.status.idle": "2024-02-02T04:31:09.509779Z",
     "shell.execute_reply": "2024-02-02T04:31:09.50824Z",
     "shell.execute_reply.started": "2024-02-02T04:31:09.48894Z"
    }
   },
   "outputs": [
    {
     "data": {
      "text/html": [
       "<div>\n",
       "<style scoped>\n",
       "    .dataframe tbody tr th:only-of-type {\n",
       "        vertical-align: middle;\n",
       "    }\n",
       "\n",
       "    .dataframe tbody tr th {\n",
       "        vertical-align: top;\n",
       "    }\n",
       "\n",
       "    .dataframe thead th {\n",
       "        text-align: right;\n",
       "    }\n",
       "</style>\n",
       "<table border=\"1\" class=\"dataframe\">\n",
       "  <thead>\n",
       "    <tr style=\"text-align: right;\">\n",
       "      <th></th>\n",
       "      <th>ID</th>\n",
       "      <th>age</th>\n",
       "      <th>gender</th>\n",
       "      <th>education</th>\n",
       "      <th>class</th>\n",
       "      <th>education_institute</th>\n",
       "      <th>marital_status</th>\n",
       "      <th>race</th>\n",
       "      <th>is_hispanic</th>\n",
       "      <th>employment_commitment</th>\n",
       "      <th>...</th>\n",
       "      <th>country_of_birth_mother</th>\n",
       "      <th>migration_code_change_in_msa</th>\n",
       "      <th>migration_prev_sunbelt</th>\n",
       "      <th>migration_code_move_within_reg</th>\n",
       "      <th>migration_code_change_in_reg</th>\n",
       "      <th>residence_1_year_ago</th>\n",
       "      <th>old_residence_reg</th>\n",
       "      <th>old_residence_state</th>\n",
       "      <th>importance_of_record</th>\n",
       "      <th>income_above_limit</th>\n",
       "    </tr>\n",
       "  </thead>\n",
       "  <tbody>\n",
       "    <tr>\n",
       "      <th>209494</th>\n",
       "      <td>ID_TZ99995</td>\n",
       "      <td>16</td>\n",
       "      <td>Female</td>\n",
       "      <td>7th and 8th grade</td>\n",
       "      <td>NaN</td>\n",
       "      <td>High school</td>\n",
       "      <td>Never married</td>\n",
       "      <td>White</td>\n",
       "      <td>All other</td>\n",
       "      <td>Not in labor force</td>\n",
       "      <td>...</td>\n",
       "      <td>US</td>\n",
       "      <td>?</td>\n",
       "      <td>?</td>\n",
       "      <td>?</td>\n",
       "      <td>?</td>\n",
       "      <td>NaN</td>\n",
       "      <td>NaN</td>\n",
       "      <td>NaN</td>\n",
       "      <td>2170.60</td>\n",
       "      <td>Below limit</td>\n",
       "    </tr>\n",
       "    <tr>\n",
       "      <th>209495</th>\n",
       "      <td>ID_TZ99996</td>\n",
       "      <td>78</td>\n",
       "      <td>Male</td>\n",
       "      <td>Bachelors degree(BA AB BS)</td>\n",
       "      <td>NaN</td>\n",
       "      <td>NaN</td>\n",
       "      <td>Married-civilian spouse present</td>\n",
       "      <td>White</td>\n",
       "      <td>All other</td>\n",
       "      <td>Not in labor force</td>\n",
       "      <td>...</td>\n",
       "      <td>Canada</td>\n",
       "      <td>?</td>\n",
       "      <td>?</td>\n",
       "      <td>?</td>\n",
       "      <td>?</td>\n",
       "      <td>NaN</td>\n",
       "      <td>NaN</td>\n",
       "      <td>NaN</td>\n",
       "      <td>1029.57</td>\n",
       "      <td>Below limit</td>\n",
       "    </tr>\n",
       "    <tr>\n",
       "      <th>209496</th>\n",
       "      <td>ID_TZ99997</td>\n",
       "      <td>8</td>\n",
       "      <td>Female</td>\n",
       "      <td>Children</td>\n",
       "      <td>NaN</td>\n",
       "      <td>NaN</td>\n",
       "      <td>Never married</td>\n",
       "      <td>White</td>\n",
       "      <td>All other</td>\n",
       "      <td>Children or Armed Forces</td>\n",
       "      <td>...</td>\n",
       "      <td>US</td>\n",
       "      <td>?</td>\n",
       "      <td>?</td>\n",
       "      <td>?</td>\n",
       "      <td>?</td>\n",
       "      <td>NaN</td>\n",
       "      <td>NaN</td>\n",
       "      <td>NaN</td>\n",
       "      <td>791.61</td>\n",
       "      <td>Below limit</td>\n",
       "    </tr>\n",
       "    <tr>\n",
       "      <th>209497</th>\n",
       "      <td>ID_TZ99998</td>\n",
       "      <td>26</td>\n",
       "      <td>Female</td>\n",
       "      <td>Some college but no degree</td>\n",
       "      <td>Private</td>\n",
       "      <td>NaN</td>\n",
       "      <td>Married-civilian spouse present</td>\n",
       "      <td>White</td>\n",
       "      <td>All other</td>\n",
       "      <td>Children or Armed Forces</td>\n",
       "      <td>...</td>\n",
       "      <td>US</td>\n",
       "      <td>unchanged</td>\n",
       "      <td>NaN</td>\n",
       "      <td>unchanged</td>\n",
       "      <td>unchanged</td>\n",
       "      <td>Same</td>\n",
       "      <td>NaN</td>\n",
       "      <td>NaN</td>\n",
       "      <td>3530.26</td>\n",
       "      <td>Below limit</td>\n",
       "    </tr>\n",
       "    <tr>\n",
       "      <th>209498</th>\n",
       "      <td>ID_TZ99999</td>\n",
       "      <td>19</td>\n",
       "      <td>Male</td>\n",
       "      <td>11th grade</td>\n",
       "      <td>Local government</td>\n",
       "      <td>High school</td>\n",
       "      <td>Never married</td>\n",
       "      <td>Black</td>\n",
       "      <td>All other</td>\n",
       "      <td>Children or Armed Forces</td>\n",
       "      <td>...</td>\n",
       "      <td>US</td>\n",
       "      <td>MSA to MSA</td>\n",
       "      <td>Same</td>\n",
       "      <td>Same county</td>\n",
       "      <td>Same county</td>\n",
       "      <td>No</td>\n",
       "      <td>South</td>\n",
       "      <td>Florida</td>\n",
       "      <td>1987.72</td>\n",
       "      <td>Below limit</td>\n",
       "    </tr>\n",
       "  </tbody>\n",
       "</table>\n",
       "<p>5 rows × 43 columns</p>\n",
       "</div>"
      ],
      "text/plain": [
       "                ID  age   gender                    education  \\\n",
       "209494  ID_TZ99995   16   Female            7th and 8th grade   \n",
       "209495  ID_TZ99996   78     Male   Bachelors degree(BA AB BS)   \n",
       "209496  ID_TZ99997    8   Female                     Children   \n",
       "209497  ID_TZ99998   26   Female   Some college but no degree   \n",
       "209498  ID_TZ99999   19     Male                   11th grade   \n",
       "\n",
       "                    class education_institute  \\\n",
       "209494                NaN         High school   \n",
       "209495                NaN                 NaN   \n",
       "209496                NaN                 NaN   \n",
       "209497            Private                 NaN   \n",
       "209498   Local government         High school   \n",
       "\n",
       "                          marital_status    race is_hispanic  \\\n",
       "209494                     Never married   White   All other   \n",
       "209495   Married-civilian spouse present   White   All other   \n",
       "209496                     Never married   White   All other   \n",
       "209497   Married-civilian spouse present   White   All other   \n",
       "209498                     Never married   Black   All other   \n",
       "\n",
       "            employment_commitment  ... country_of_birth_mother  \\\n",
       "209494         Not in labor force  ...                      US   \n",
       "209495         Not in labor force  ...                  Canada   \n",
       "209496   Children or Armed Forces  ...                      US   \n",
       "209497   Children or Armed Forces  ...                      US   \n",
       "209498   Children or Armed Forces  ...                      US   \n",
       "\n",
       "        migration_code_change_in_msa  migration_prev_sunbelt  \\\n",
       "209494                             ?                       ?   \n",
       "209495                             ?                       ?   \n",
       "209496                             ?                       ?   \n",
       "209497                     unchanged                     NaN   \n",
       "209498                    MSA to MSA                    Same   \n",
       "\n",
       "       migration_code_move_within_reg  migration_code_change_in_reg  \\\n",
       "209494                              ?                             ?   \n",
       "209495                              ?                             ?   \n",
       "209496                              ?                             ?   \n",
       "209497                      unchanged                     unchanged   \n",
       "209498                    Same county                   Same county   \n",
       "\n",
       "        residence_1_year_ago old_residence_reg  old_residence_state  \\\n",
       "209494                   NaN               NaN                  NaN   \n",
       "209495                   NaN               NaN                  NaN   \n",
       "209496                   NaN               NaN                  NaN   \n",
       "209497                  Same               NaN                  NaN   \n",
       "209498                    No             South              Florida   \n",
       "\n",
       "       importance_of_record  income_above_limit  \n",
       "209494              2170.60         Below limit  \n",
       "209495              1029.57         Below limit  \n",
       "209496               791.61         Below limit  \n",
       "209497              3530.26         Below limit  \n",
       "209498              1987.72         Below limit  \n",
       "\n",
       "[5 rows x 43 columns]"
      ]
     },
     "execution_count": 5,
     "metadata": {},
     "output_type": "execute_result"
    }
   ],
   "source": [
    "df.tail()"
   ]
  },
  {
   "cell_type": "code",
   "execution_count": 6,
   "metadata": {
    "execution": {
     "iopub.execute_input": "2024-02-02T04:31:09.511691Z",
     "iopub.status.busy": "2024-02-02T04:31:09.511301Z",
     "iopub.status.idle": "2024-02-02T04:31:09.519232Z",
     "shell.execute_reply": "2024-02-02T04:31:09.518094Z",
     "shell.execute_reply.started": "2024-02-02T04:31:09.511639Z"
    }
   },
   "outputs": [
    {
     "name": "stdout",
     "output_type": "stream",
     "text": [
      "Rows- 209499\n",
      "Columns- 43\n"
     ]
    }
   ],
   "source": [
    "print(\"Rows-\",df.shape[0])\n",
    "print(\"Columns-\",df.shape[1])"
   ]
  },
  {
   "cell_type": "code",
   "execution_count": 7,
   "metadata": {
    "execution": {
     "iopub.execute_input": "2024-02-02T04:31:09.521324Z",
     "iopub.status.busy": "2024-02-02T04:31:09.520989Z",
     "iopub.status.idle": "2024-02-02T04:31:09.726709Z",
     "shell.execute_reply": "2024-02-02T04:31:09.72552Z",
     "shell.execute_reply.started": "2024-02-02T04:31:09.521294Z"
    }
   },
   "outputs": [
    {
     "name": "stdout",
     "output_type": "stream",
     "text": [
      "<class 'pandas.core.frame.DataFrame'>\n",
      "RangeIndex: 209499 entries, 0 to 209498\n",
      "Data columns (total 43 columns):\n",
      " #   Column                          Non-Null Count   Dtype  \n",
      "---  ------                          --------------   -----  \n",
      " 0   ID                              209499 non-null  object \n",
      " 1   age                             209499 non-null  int64  \n",
      " 2   gender                          209499 non-null  object \n",
      " 3   education                       209499 non-null  object \n",
      " 4   class                           104254 non-null  object \n",
      " 5   education_institute             13302 non-null   object \n",
      " 6   marital_status                  209499 non-null  object \n",
      " 7   race                            209499 non-null  object \n",
      " 8   is_hispanic                     209499 non-null  object \n",
      " 9   employment_commitment           209499 non-null  object \n",
      " 10  unemployment_reason             6520 non-null    object \n",
      " 11  employment_stat                 209499 non-null  int64  \n",
      " 12  wage_per_hour                   209499 non-null  int64  \n",
      " 13  is_labor_union                  20079 non-null   object \n",
      " 14  working_week_per_year           209499 non-null  int64  \n",
      " 15  industry_code                   209499 non-null  int64  \n",
      " 16  industry_code_main              209499 non-null  object \n",
      " 17  occupation_code                 209499 non-null  int64  \n",
      " 18  occupation_code_main            103805 non-null  object \n",
      " 19  total_employed                  209499 non-null  int64  \n",
      " 20  household_stat                  209499 non-null  object \n",
      " 21  household_summary               209499 non-null  object \n",
      " 22  under_18_family                 57845 non-null   object \n",
      " 23  veterans_admin_questionnaire    2084 non-null    object \n",
      " 24  vet_benefit                     209499 non-null  int64  \n",
      " 25  tax_status                      209499 non-null  object \n",
      " 26  gains                           209499 non-null  int64  \n",
      " 27  losses                          209499 non-null  int64  \n",
      " 28  stocks_status                   209499 non-null  int64  \n",
      " 29  citizenship                     209499 non-null  object \n",
      " 30  mig_year                        209499 non-null  int64  \n",
      " 31  country_of_birth_own            209499 non-null  object \n",
      " 32  country_of_birth_father         209499 non-null  object \n",
      " 33  country_of_birth_mother         209499 non-null  object \n",
      " 34  migration_code_change_in_msa    207911 non-null  object \n",
      " 35  migration_prev_sunbelt          121047 non-null  object \n",
      " 36  migration_code_move_within_reg  207911 non-null  object \n",
      " 37  migration_code_change_in_reg    207911 non-null  object \n",
      " 38  residence_1_year_ago            103215 non-null  object \n",
      " 39  old_residence_reg               16351 non-null   object \n",
      " 40  old_residence_state             16351 non-null   object \n",
      " 41  importance_of_record            209499 non-null  float64\n",
      " 42  income_above_limit              209499 non-null  object \n",
      "dtypes: float64(1), int64(12), object(30)\n",
      "memory usage: 68.7+ MB\n"
     ]
    }
   ],
   "source": [
    "df.info()"
   ]
  },
  {
   "cell_type": "code",
   "execution_count": 8,
   "metadata": {
    "execution": {
     "iopub.execute_input": "2024-02-02T04:31:09.728448Z",
     "iopub.status.busy": "2024-02-02T04:31:09.727893Z",
     "iopub.status.idle": "2024-02-02T04:31:09.786142Z",
     "shell.execute_reply": "2024-02-02T04:31:09.785023Z",
     "shell.execute_reply.started": "2024-02-02T04:31:09.728421Z"
    }
   },
   "outputs": [],
   "source": [
    "## dropping the ID column\n",
    "df=df.drop(['ID'],axis=1)"
   ]
  },
  {
   "cell_type": "code",
   "execution_count": 9,
   "metadata": {
    "execution": {
     "iopub.execute_input": "2024-02-02T04:31:09.78816Z",
     "iopub.status.busy": "2024-02-02T04:31:09.787734Z",
     "iopub.status.idle": "2024-02-02T04:31:09.88997Z",
     "shell.execute_reply": "2024-02-02T04:31:09.889179Z",
     "shell.execute_reply.started": "2024-02-02T04:31:09.788133Z"
    }
   },
   "outputs": [
    {
     "data": {
      "text/html": [
       "<div>\n",
       "<style scoped>\n",
       "    .dataframe tbody tr th:only-of-type {\n",
       "        vertical-align: middle;\n",
       "    }\n",
       "\n",
       "    .dataframe tbody tr th {\n",
       "        vertical-align: top;\n",
       "    }\n",
       "\n",
       "    .dataframe thead th {\n",
       "        text-align: right;\n",
       "    }\n",
       "</style>\n",
       "<table border=\"1\" class=\"dataframe\">\n",
       "  <thead>\n",
       "    <tr style=\"text-align: right;\">\n",
       "      <th></th>\n",
       "      <th>count</th>\n",
       "      <th>mean</th>\n",
       "      <th>std</th>\n",
       "      <th>min</th>\n",
       "      <th>25%</th>\n",
       "      <th>50%</th>\n",
       "      <th>75%</th>\n",
       "      <th>max</th>\n",
       "    </tr>\n",
       "  </thead>\n",
       "  <tbody>\n",
       "    <tr>\n",
       "      <th>age</th>\n",
       "      <td>209499.0</td>\n",
       "      <td>34.518728</td>\n",
       "      <td>22.306738</td>\n",
       "      <td>0.00</td>\n",
       "      <td>15.00</td>\n",
       "      <td>33.00</td>\n",
       "      <td>50.00</td>\n",
       "      <td>90.0</td>\n",
       "    </tr>\n",
       "    <tr>\n",
       "      <th>employment_stat</th>\n",
       "      <td>209499.0</td>\n",
       "      <td>0.176760</td>\n",
       "      <td>0.555562</td>\n",
       "      <td>0.00</td>\n",
       "      <td>0.00</td>\n",
       "      <td>0.00</td>\n",
       "      <td>0.00</td>\n",
       "      <td>2.0</td>\n",
       "    </tr>\n",
       "    <tr>\n",
       "      <th>wage_per_hour</th>\n",
       "      <td>209499.0</td>\n",
       "      <td>55.433487</td>\n",
       "      <td>276.757327</td>\n",
       "      <td>0.00</td>\n",
       "      <td>0.00</td>\n",
       "      <td>0.00</td>\n",
       "      <td>0.00</td>\n",
       "      <td>9999.0</td>\n",
       "    </tr>\n",
       "    <tr>\n",
       "      <th>working_week_per_year</th>\n",
       "      <td>209499.0</td>\n",
       "      <td>23.158850</td>\n",
       "      <td>24.397963</td>\n",
       "      <td>0.00</td>\n",
       "      <td>0.00</td>\n",
       "      <td>8.00</td>\n",
       "      <td>52.00</td>\n",
       "      <td>52.0</td>\n",
       "    </tr>\n",
       "    <tr>\n",
       "      <th>industry_code</th>\n",
       "      <td>209499.0</td>\n",
       "      <td>15.332398</td>\n",
       "      <td>18.049655</td>\n",
       "      <td>0.00</td>\n",
       "      <td>0.00</td>\n",
       "      <td>0.00</td>\n",
       "      <td>33.00</td>\n",
       "      <td>51.0</td>\n",
       "    </tr>\n",
       "    <tr>\n",
       "      <th>occupation_code</th>\n",
       "      <td>209499.0</td>\n",
       "      <td>11.321734</td>\n",
       "      <td>14.460839</td>\n",
       "      <td>0.00</td>\n",
       "      <td>0.00</td>\n",
       "      <td>0.00</td>\n",
       "      <td>26.00</td>\n",
       "      <td>46.0</td>\n",
       "    </tr>\n",
       "    <tr>\n",
       "      <th>total_employed</th>\n",
       "      <td>209499.0</td>\n",
       "      <td>1.956067</td>\n",
       "      <td>2.365154</td>\n",
       "      <td>0.00</td>\n",
       "      <td>0.00</td>\n",
       "      <td>1.00</td>\n",
       "      <td>4.00</td>\n",
       "      <td>6.0</td>\n",
       "    </tr>\n",
       "    <tr>\n",
       "      <th>vet_benefit</th>\n",
       "      <td>209499.0</td>\n",
       "      <td>1.515854</td>\n",
       "      <td>0.850853</td>\n",
       "      <td>0.00</td>\n",
       "      <td>2.00</td>\n",
       "      <td>2.00</td>\n",
       "      <td>2.00</td>\n",
       "      <td>2.0</td>\n",
       "    </tr>\n",
       "    <tr>\n",
       "      <th>gains</th>\n",
       "      <td>209499.0</td>\n",
       "      <td>435.926887</td>\n",
       "      <td>4696.359500</td>\n",
       "      <td>0.00</td>\n",
       "      <td>0.00</td>\n",
       "      <td>0.00</td>\n",
       "      <td>0.00</td>\n",
       "      <td>99999.0</td>\n",
       "    </tr>\n",
       "    <tr>\n",
       "      <th>losses</th>\n",
       "      <td>209499.0</td>\n",
       "      <td>36.881737</td>\n",
       "      <td>270.383302</td>\n",
       "      <td>0.00</td>\n",
       "      <td>0.00</td>\n",
       "      <td>0.00</td>\n",
       "      <td>0.00</td>\n",
       "      <td>4608.0</td>\n",
       "    </tr>\n",
       "    <tr>\n",
       "      <th>stocks_status</th>\n",
       "      <td>209499.0</td>\n",
       "      <td>194.533420</td>\n",
       "      <td>1956.375501</td>\n",
       "      <td>0.00</td>\n",
       "      <td>0.00</td>\n",
       "      <td>0.00</td>\n",
       "      <td>0.00</td>\n",
       "      <td>99999.0</td>\n",
       "    </tr>\n",
       "    <tr>\n",
       "      <th>mig_year</th>\n",
       "      <td>209499.0</td>\n",
       "      <td>94.499745</td>\n",
       "      <td>0.500001</td>\n",
       "      <td>94.00</td>\n",
       "      <td>94.00</td>\n",
       "      <td>94.00</td>\n",
       "      <td>95.00</td>\n",
       "      <td>95.0</td>\n",
       "    </tr>\n",
       "    <tr>\n",
       "      <th>importance_of_record</th>\n",
       "      <td>209499.0</td>\n",
       "      <td>1740.888324</td>\n",
       "      <td>995.559557</td>\n",
       "      <td>37.87</td>\n",
       "      <td>1061.29</td>\n",
       "      <td>1617.04</td>\n",
       "      <td>2185.48</td>\n",
       "      <td>18656.3</td>\n",
       "    </tr>\n",
       "  </tbody>\n",
       "</table>\n",
       "</div>"
      ],
      "text/plain": [
       "                          count         mean          std    min      25%  \\\n",
       "age                    209499.0    34.518728    22.306738   0.00    15.00   \n",
       "employment_stat        209499.0     0.176760     0.555562   0.00     0.00   \n",
       "wage_per_hour          209499.0    55.433487   276.757327   0.00     0.00   \n",
       "working_week_per_year  209499.0    23.158850    24.397963   0.00     0.00   \n",
       "industry_code          209499.0    15.332398    18.049655   0.00     0.00   \n",
       "occupation_code        209499.0    11.321734    14.460839   0.00     0.00   \n",
       "total_employed         209499.0     1.956067     2.365154   0.00     0.00   \n",
       "vet_benefit            209499.0     1.515854     0.850853   0.00     2.00   \n",
       "gains                  209499.0   435.926887  4696.359500   0.00     0.00   \n",
       "losses                 209499.0    36.881737   270.383302   0.00     0.00   \n",
       "stocks_status          209499.0   194.533420  1956.375501   0.00     0.00   \n",
       "mig_year               209499.0    94.499745     0.500001  94.00    94.00   \n",
       "importance_of_record   209499.0  1740.888324   995.559557  37.87  1061.29   \n",
       "\n",
       "                           50%      75%      max  \n",
       "age                      33.00    50.00     90.0  \n",
       "employment_stat           0.00     0.00      2.0  \n",
       "wage_per_hour             0.00     0.00   9999.0  \n",
       "working_week_per_year     8.00    52.00     52.0  \n",
       "industry_code             0.00    33.00     51.0  \n",
       "occupation_code           0.00    26.00     46.0  \n",
       "total_employed            1.00     4.00      6.0  \n",
       "vet_benefit               2.00     2.00      2.0  \n",
       "gains                     0.00     0.00  99999.0  \n",
       "losses                    0.00     0.00   4608.0  \n",
       "stocks_status             0.00     0.00  99999.0  \n",
       "mig_year                 94.00    95.00     95.0  \n",
       "importance_of_record   1617.04  2185.48  18656.3  "
      ]
     },
     "execution_count": 9,
     "metadata": {},
     "output_type": "execute_result"
    }
   ],
   "source": [
    "df.describe(exclude=object).T"
   ]
  },
  {
   "cell_type": "markdown",
   "metadata": {},
   "source": [
    "# <span style=\"font-family:cursive;text-align:center\">📊 Exploratory Data Analysis</span>"
   ]
  },
  {
   "cell_type": "code",
   "execution_count": 10,
   "metadata": {
    "execution": {
     "iopub.execute_input": "2024-02-02T04:31:09.893244Z",
     "iopub.status.busy": "2024-02-02T04:31:09.892985Z",
     "iopub.status.idle": "2024-02-02T04:31:09.976765Z",
     "shell.execute_reply": "2024-02-02T04:31:09.974643Z",
     "shell.execute_reply.started": "2024-02-02T04:31:09.89322Z"
    }
   },
   "outputs": [
    {
     "name": "stdout",
     "output_type": "stream",
     "text": [
      "Numerical Features Names =  Index(['age', 'employment_stat', 'wage_per_hour', 'working_week_per_year',\n",
      "       'industry_code', 'occupation_code', 'total_employed', 'vet_benefit',\n",
      "       'gains', 'losses', 'stocks_status', 'mig_year', 'importance_of_record'],\n",
      "      dtype='object')\n",
      "Numerical Features Count 13\n",
      "Discrete Numerical Features 4\n",
      "Continous Numerical Features 9\n"
     ]
    }
   ],
   "source": [
    "numerical_features = df.select_dtypes(exclude=object)\n",
    "print(\"Numerical Features Names = \",numerical_features.columns)\n",
    "print(\"Numerical Features Count\",len(numerical_features.columns))\n",
    "\n",
    "discrete_features=[col for col in numerical_features.columns if len(df[col].unique())<25]\n",
    "print(\"Discrete Numerical Features\",len(discrete_features))\n",
    "continous_features =  [ col for col in numerical_features.columns if col not in discrete_features]\n",
    "print(\"Continous Numerical Features\",len(continous_features))"
   ]
  },
  {
   "cell_type": "code",
   "execution_count": 11,
   "metadata": {
    "execution": {
     "iopub.execute_input": "2024-02-02T04:31:09.978127Z",
     "iopub.status.busy": "2024-02-02T04:31:09.977843Z",
     "iopub.status.idle": "2024-02-02T04:31:10.025518Z",
     "shell.execute_reply": "2024-02-02T04:31:10.023965Z",
     "shell.execute_reply.started": "2024-02-02T04:31:09.978101Z"
    }
   },
   "outputs": [
    {
     "name": "stdout",
     "output_type": "stream",
     "text": [
      "Categorical Features Names = Index(['gender', 'education', 'class', 'education_institute', 'marital_status',\n",
      "       'race', 'is_hispanic', 'employment_commitment', 'unemployment_reason',\n",
      "       'is_labor_union', 'industry_code_main', 'occupation_code_main',\n",
      "       'household_stat', 'household_summary', 'under_18_family',\n",
      "       'veterans_admin_questionnaire', 'tax_status', 'citizenship',\n",
      "       'country_of_birth_own', 'country_of_birth_father',\n",
      "       'country_of_birth_mother', 'migration_code_change_in_msa',\n",
      "       'migration_prev_sunbelt', 'migration_code_move_within_reg',\n",
      "       'migration_code_change_in_reg', 'residence_1_year_ago',\n",
      "       'old_residence_reg', 'old_residence_state', 'income_above_limit'],\n",
      "      dtype='object')\n",
      "Categorical Features Count 29\n"
     ]
    }
   ],
   "source": [
    "categorical_features=df.select_dtypes(include=object)\n",
    "print(\"Categorical Features Names =\",categorical_features.columns)\n",
    "print(\"Categorical Features Count\",len(categorical_features.columns))"
   ]
  },
  {
   "cell_type": "code",
   "execution_count": 12,
   "metadata": {
    "execution": {
     "iopub.execute_input": "2024-02-02T04:31:10.027871Z",
     "iopub.status.busy": "2024-02-02T04:31:10.02709Z",
     "iopub.status.idle": "2024-02-02T04:31:10.350465Z",
     "shell.execute_reply": "2024-02-02T04:31:10.349054Z",
     "shell.execute_reply.started": "2024-02-02T04:31:10.027833Z"
    }
   },
   "outputs": [],
   "source": [
    "## consdering \" ?\" has a missing values\n",
    "df.replace(\" ?\",np.NAN,inplace=True)"
   ]
  },
  {
   "cell_type": "markdown",
   "metadata": {},
   "source": [
    "## Handling missing values"
   ]
  },
  {
   "cell_type": "code",
   "execution_count": 13,
   "metadata": {
    "execution": {
     "iopub.execute_input": "2024-02-02T04:31:10.35184Z",
     "iopub.status.busy": "2024-02-02T04:31:10.351537Z",
     "iopub.status.idle": "2024-02-02T04:31:10.53458Z",
     "shell.execute_reply": "2024-02-02T04:31:10.533225Z",
     "shell.execute_reply.started": "2024-02-02T04:31:10.351815Z"
    }
   },
   "outputs": [
    {
     "data": {
      "text/plain": [
       "age                                    0\n",
       "gender                                 0\n",
       "education                              0\n",
       "class                             105245\n",
       "education_institute               196197\n",
       "marital_status                         0\n",
       "race                                   0\n",
       "is_hispanic                            0\n",
       "employment_commitment                  0\n",
       "unemployment_reason               202979\n",
       "employment_stat                        0\n",
       "wage_per_hour                          0\n",
       "is_labor_union                    189420\n",
       "working_week_per_year                  0\n",
       "industry_code                          0\n",
       "industry_code_main                     0\n",
       "occupation_code                        0\n",
       "occupation_code_main              105694\n",
       "total_employed                         0\n",
       "household_stat                         0\n",
       "household_summary                      0\n",
       "under_18_family                   151654\n",
       "veterans_admin_questionnaire      207415\n",
       "vet_benefit                            0\n",
       "tax_status                             0\n",
       "gains                                  0\n",
       "losses                                 0\n",
       "stocks_status                          0\n",
       "citizenship                            0\n",
       "mig_year                               0\n",
       "country_of_birth_own                3667\n",
       "country_of_birth_father             7181\n",
       "country_of_birth_mother             6516\n",
       "migration_code_change_in_msa      106284\n",
       "migration_prev_sunbelt            193148\n",
       "migration_code_move_within_reg    106284\n",
       "migration_code_change_in_reg      106284\n",
       "residence_1_year_ago              106284\n",
       "old_residence_reg                 193148\n",
       "old_residence_state               193889\n",
       "importance_of_record                   0\n",
       "income_above_limit                     0\n",
       "dtype: int64"
      ]
     },
     "execution_count": 13,
     "metadata": {},
     "output_type": "execute_result"
    }
   ],
   "source": [
    "df.isnull().sum()"
   ]
  },
  {
   "cell_type": "code",
   "execution_count": 14,
   "metadata": {
    "execution": {
     "iopub.execute_input": "2024-02-02T04:31:10.537188Z",
     "iopub.status.busy": "2024-02-02T04:31:10.53648Z",
     "iopub.status.idle": "2024-02-02T04:31:10.542467Z",
     "shell.execute_reply": "2024-02-02T04:31:10.541277Z",
     "shell.execute_reply.started": "2024-02-02T04:31:10.537157Z"
    }
   },
   "outputs": [],
   "source": [
    "# function returns the column names having more than 50% missing values\n",
    "def missing_values(df):\n",
    "    missing_df=pd.DataFrame(100*df.isnull().sum()/df.shape[0],columns=['% Missing'])\n",
    "    return missing_df[missing_df['% Missing']>0]\n",
    "     "
   ]
  },
  {
   "cell_type": "code",
   "execution_count": 15,
   "metadata": {
    "execution": {
     "iopub.execute_input": "2024-02-02T04:31:10.544368Z",
     "iopub.status.busy": "2024-02-02T04:31:10.54387Z",
     "iopub.status.idle": "2024-02-02T04:31:10.731317Z",
     "shell.execute_reply": "2024-02-02T04:31:10.729869Z",
     "shell.execute_reply.started": "2024-02-02T04:31:10.544341Z"
    }
   },
   "outputs": [
    {
     "data": {
      "text/html": [
       "<div>\n",
       "<style scoped>\n",
       "    .dataframe tbody tr th:only-of-type {\n",
       "        vertical-align: middle;\n",
       "    }\n",
       "\n",
       "    .dataframe tbody tr th {\n",
       "        vertical-align: top;\n",
       "    }\n",
       "\n",
       "    .dataframe thead th {\n",
       "        text-align: right;\n",
       "    }\n",
       "</style>\n",
       "<table border=\"1\" class=\"dataframe\">\n",
       "  <thead>\n",
       "    <tr style=\"text-align: right;\">\n",
       "      <th></th>\n",
       "      <th>% Missing</th>\n",
       "    </tr>\n",
       "  </thead>\n",
       "  <tbody>\n",
       "    <tr>\n",
       "      <th>class</th>\n",
       "      <td>50.236517</td>\n",
       "    </tr>\n",
       "    <tr>\n",
       "      <th>education_institute</th>\n",
       "      <td>93.650566</td>\n",
       "    </tr>\n",
       "    <tr>\n",
       "      <th>unemployment_reason</th>\n",
       "      <td>96.887813</td>\n",
       "    </tr>\n",
       "    <tr>\n",
       "      <th>is_labor_union</th>\n",
       "      <td>90.415706</td>\n",
       "    </tr>\n",
       "    <tr>\n",
       "      <th>occupation_code_main</th>\n",
       "      <td>50.450837</td>\n",
       "    </tr>\n",
       "    <tr>\n",
       "      <th>under_18_family</th>\n",
       "      <td>72.388890</td>\n",
       "    </tr>\n",
       "    <tr>\n",
       "      <th>veterans_admin_questionnaire</th>\n",
       "      <td>99.005246</td>\n",
       "    </tr>\n",
       "    <tr>\n",
       "      <th>country_of_birth_own</th>\n",
       "      <td>1.750366</td>\n",
       "    </tr>\n",
       "    <tr>\n",
       "      <th>country_of_birth_father</th>\n",
       "      <td>3.427701</td>\n",
       "    </tr>\n",
       "    <tr>\n",
       "      <th>country_of_birth_mother</th>\n",
       "      <td>3.110277</td>\n",
       "    </tr>\n",
       "    <tr>\n",
       "      <th>migration_code_change_in_msa</th>\n",
       "      <td>50.732462</td>\n",
       "    </tr>\n",
       "    <tr>\n",
       "      <th>migration_prev_sunbelt</th>\n",
       "      <td>92.195189</td>\n",
       "    </tr>\n",
       "    <tr>\n",
       "      <th>migration_code_move_within_reg</th>\n",
       "      <td>50.732462</td>\n",
       "    </tr>\n",
       "    <tr>\n",
       "      <th>migration_code_change_in_reg</th>\n",
       "      <td>50.732462</td>\n",
       "    </tr>\n",
       "    <tr>\n",
       "      <th>residence_1_year_ago</th>\n",
       "      <td>50.732462</td>\n",
       "    </tr>\n",
       "    <tr>\n",
       "      <th>old_residence_reg</th>\n",
       "      <td>92.195189</td>\n",
       "    </tr>\n",
       "    <tr>\n",
       "      <th>old_residence_state</th>\n",
       "      <td>92.548890</td>\n",
       "    </tr>\n",
       "  </tbody>\n",
       "</table>\n",
       "</div>"
      ],
      "text/plain": [
       "                                % Missing\n",
       "class                           50.236517\n",
       "education_institute             93.650566\n",
       "unemployment_reason             96.887813\n",
       "is_labor_union                  90.415706\n",
       "occupation_code_main            50.450837\n",
       "under_18_family                 72.388890\n",
       "veterans_admin_questionnaire    99.005246\n",
       "country_of_birth_own             1.750366\n",
       "country_of_birth_father          3.427701\n",
       "country_of_birth_mother          3.110277\n",
       "migration_code_change_in_msa    50.732462\n",
       "migration_prev_sunbelt          92.195189\n",
       "migration_code_move_within_reg  50.732462\n",
       "migration_code_change_in_reg    50.732462\n",
       "residence_1_year_ago            50.732462\n",
       "old_residence_reg               92.195189\n",
       "old_residence_state             92.548890"
      ]
     },
     "execution_count": 15,
     "metadata": {},
     "output_type": "execute_result"
    }
   ],
   "source": [
    "missing_values(df)"
   ]
  },
  {
   "cell_type": "code",
   "execution_count": 16,
   "metadata": {
    "execution": {
     "iopub.execute_input": "2024-02-02T04:31:10.733779Z",
     "iopub.status.busy": "2024-02-02T04:31:10.733372Z",
     "iopub.status.idle": "2024-02-02T04:31:10.746493Z",
     "shell.execute_reply": "2024-02-02T04:31:10.745372Z",
     "shell.execute_reply.started": "2024-02-02T04:31:10.733753Z"
    }
   },
   "outputs": [],
   "source": [
    "def plot_count(df, col,title_name):\n",
    "    # Set background color\n",
    "    plt.rcParams['figure.facecolor'] = '#FFFAF0'\n",
    "    \n",
    "    f, ax = plt.subplots(1, 2, figsize=(12, 6))\n",
    "    plt.subplots_adjust(wspace=0.1)\n",
    "\n",
    "    s1 = df[col].value_counts()\n",
    "    N = len(s1)\n",
    "\n",
    "    outer_sizes = s1\n",
    "    inner_sizes = s1/N\n",
    "\n",
    "    outer_colors = ['#9E3F00', '#eb5e00', '#ff781f']\n",
    "    inner_colors = ['#ff6905', '#ff8838', '#ffa66b']\n",
    "\n",
    "    ax[0].pie(\n",
    "        outer_sizes,colors=outer_colors, \n",
    "        labels=s1.index.tolist(), \n",
    "        startangle=90, frame=True, radius=1.4, \n",
    "        explode=([0.05]*(N-1) + [.3]),\n",
    "        wedgeprops={'linewidth' : 1, 'edgecolor' : 'white'}, \n",
    "        textprops={'fontsize': 12, 'weight': 'bold'}\n",
    "    )\n",
    "\n",
    "    textprops = {\n",
    "        'size': 13, \n",
    "        'weight': 'bold', \n",
    "        'color': 'white'\n",
    "    }\n",
    "\n",
    "    ax[0].pie(\n",
    "        inner_sizes, colors=inner_colors,\n",
    "        radius=1, startangle=90,\n",
    "        autopct='%1.f%%', explode=([.1]*(N-1) + [.3]),\n",
    "        pctdistance=0.8, textprops=textprops\n",
    "    )\n",
    "\n",
    "    center_circle = plt.Circle((0,0), .68, color='black', fc='white', linewidth=0)\n",
    "    ax[0].add_artist(center_circle)\n",
    "\n",
    "    x = s1\n",
    "    y = s1.index.tolist()\n",
    "    sns.barplot(\n",
    "        x=x, y=y, ax=ax[1],\n",
    "        palette='YlOrBr_r', orient='horizontal'\n",
    "    )\n",
    "\n",
    "    ax[1].spines['top'].set_visible(False)\n",
    "    ax[1].spines['right'].set_visible(False)\n",
    "    ax[1].tick_params(\n",
    "        axis='x',         \n",
    "        which='both',      \n",
    "        bottom=False,      \n",
    "        labelbottom=False\n",
    "    )\n",
    "\n",
    "    for i, v in enumerate(s1):\n",
    "        ax[1].text(v, i+0.1, str(v), color='black', fontweight='bold', fontsize=12)\n",
    "\n",
    "    plt.setp(ax[1].get_yticklabels(), fontweight=\"bold\")\n",
    "    plt.setp(ax[1].get_xticklabels(), fontweight=\"bold\")\n",
    "    ax[1].set_xlabel(col, fontweight=\"bold\", color='black')\n",
    "    ax[1].set_ylabel('count', fontweight=\"bold\", color='black')\n",
    "\n",
    "    f.suptitle(f'{title_name}', fontsize=18, fontweight='bold')\n",
    "    plt.tight_layout()\n",
    "    plt.show()\n",
    "    plt.rcParams['figure.facecolor'] = '#FFFFFF'"
   ]
  },
  {
   "cell_type": "code",
   "execution_count": 17,
   "metadata": {
    "execution": {
     "iopub.execute_input": "2024-02-02T04:31:10.748119Z",
     "iopub.status.busy": "2024-02-02T04:31:10.747802Z",
     "iopub.status.idle": "2024-02-02T04:31:11.201947Z",
     "shell.execute_reply": "2024-02-02T04:31:11.200734Z",
     "shell.execute_reply.started": "2024-02-02T04:31:10.748085Z"
    }
   },
   "outputs": [
    {
     "data": {
      "image/png": "[encoded data removed]",
      "text/plain": [
       "<Figure size 864x432 with 2 Axes>"
      ]
     },
     "metadata": {},
     "output_type": "display_data"
    }
   ],
   "source": [
    "plot_count(df, 'income_above_limit', 'income_above_limit Distribution')"
   ]
  },
  {
   "cell_type": "markdown",
   "metadata": {},
   "source": [
    "<div style=\"border-radius:10px; border:#DEB887 solid; padding: 15px; background-color: #FFFAF0; font-size:100%; text-align:left\">\n",
    "<h3 align=\"left\"><font color='#DEB887'>💡 Observations:</font></h3>\n",
    "    \n",
    "* The dataset is unbalanced, as the dependent feature 'income_above_limit' contains 93.8% values have income less than limit and 6.2% values have income more than limit\n",
    "* So many null values are also present which is not great"
   ]
  },
  {
   "cell_type": "code",
   "execution_count": 18,
   "metadata": {
    "execution": {
     "iopub.execute_input": "2024-02-02T04:31:11.203596Z",
     "iopub.status.busy": "2024-02-02T04:31:11.203122Z",
     "iopub.status.idle": "2024-02-02T04:31:12.270176Z",
     "shell.execute_reply": "2024-02-02T04:31:12.268777Z",
     "shell.execute_reply.started": "2024-02-02T04:31:11.20357Z"
    }
   },
   "outputs": [
    {
     "data": {
      "image/png": "[encoded data removed]",
      "text/plain": [
       "<Figure size 1728x1080 with 4 Axes>"
      ]
     },
     "metadata": {},
     "output_type": "display_data"
    }
   ],
   "source": [
    "fig, axs = plt.subplots(2, 2, figsize=(24, 15))\n",
    "\n",
    "# Distribution of total_employed\n",
    "total_employed = df['total_employed'].value_counts()\n",
    "sns.barplot(x=total_employed.index, y=total_employed.values, palette='bright', ax=axs[0,0])\n",
    "axs[0,0].set_title('Distribution of total_employed', fontdict={'fontname': 'Monospace', 'fontsize': 20, 'fontweight': 'bold'})\n",
    "axs[0,0].set_xlabel('total_employed', fontdict={'fontname': 'Monospace', 'fontsize': 20})\n",
    "axs[0,0].set_ylabel('Number of families', fontdict={'fontname': 'Monospace', 'fontsize': 20})\n",
    "axs[0,0].tick_params(labelsize=10)\n",
    "\n",
    "# Distribution of Income limit\n",
    "income = df['income_above_limit'].value_counts()\n",
    "sns.barplot(x=income.index, y=income.values, palette='bright', ax=axs[0,1])\n",
    "axs[0,1].set_title('Distribution of Income limit', fontdict={'fontname': 'Monospace', 'fontsize': 20, 'fontweight': 'bold'})\n",
    "axs[0,1].set_xlabel('Income', fontdict={'fontname': 'Monospace', 'fontsize': 20})\n",
    "axs[0,1].set_ylabel('Number of people', fontdict={'fontname': 'Monospace', 'fontsize': 20})\n",
    "axs[0,1].tick_params(labelsize=10)\n",
    "\n",
    "citizenship = df['citizenship'].value_counts()\n",
    "sns.barplot(y=citizenship.index,x=citizenship.values,palette='bright',ax=axs[1,0])\n",
    "axs[1,0].set_title('Distribution of citizenship', fontdict={'fontname': 'Monospace', 'fontsize': 20, 'fontweight': 'bold'})\n",
    "axs[1,0].set_ylabel('citizenship', fontdict={'fontname': 'Monospace', 'fontsize': 20})\n",
    "axs[1,0].set_xlabel('Number of people', fontdict={'fontname': 'Monospace', 'fontsize': 20})\n",
    "axs[1,0].tick_params(labelsize=10)\n",
    "\n",
    "edu = df['education'].value_counts()\n",
    "sns.barplot(x=edu.values, y=edu.index, palette='Paired',ax=axs[1,1])\n",
    "axs[1,1].set_title('Distribution of Education', fontdict={'fontname': 'Monospace', 'fontsize': 20, 'fontweight': 'bold'})\n",
    "axs[1,1].set_xlabel('Number of people', fontdict={'fontname': 'Monospace', 'fontsize': 20})\n",
    "axs[1,1].set_ylabel('Education', fontdict={'fontname': 'Monospace', 'fontsize': 20})\n",
    "axs[1,1].tick_params(labelsize=12)\n",
    "\n",
    "# Adjust spacing between subplots\n",
    "plt.tight_layout()\n",
    "\n",
    "# Show the plot\n",
    "plt.show()"
   ]
  },
  {
   "cell_type": "markdown",
   "metadata": {},
   "source": [
    "<div style=\"border-radius:10px; border: #0080FF solid; padding: 15px; background-color: #CEF6F5; font-size:100%; text-align:left\">\n",
    "<font color='#0080FF'>Question 1: Does education have any impact on income?</font>"
   ]
  },
  {
   "cell_type": "code",
   "execution_count": 19,
   "metadata": {
    "execution": {
     "iopub.execute_input": "2024-02-02T04:31:12.271611Z",
     "iopub.status.busy": "2024-02-02T04:31:12.271329Z",
     "iopub.status.idle": "2024-02-02T04:31:12.44252Z",
     "shell.execute_reply": "2024-02-02T04:31:12.441679Z",
     "shell.execute_reply.started": "2024-02-02T04:31:12.271584Z"
    },
    "scrolled": true
   },
   "outputs": [
    {
     "data": {
      "text/plain": [
       "education\n",
       " High school graduate                      50627\n",
       " Children                                  49685\n",
       " Some college but no degree                29320\n",
       " Bachelors degree(BA AB BS)                20979\n",
       " 7th and 8th grade                          8438\n",
       " 10th grade                                 7905\n",
       " 11th grade                                 7260\n",
       " Masters degree(MA MS MEng MEd MSW MBA)     6861\n",
       " 9th grade                                  6540\n",
       " Associates degree-occup /vocational        5650\n",
       " Associates degree-academic program         4494\n",
       " 5th or 6th grade                           3542\n",
       " 12th grade no diploma                      2282\n",
       " 1st 2nd 3rd or 4th grade                   1917\n",
       " Prof school degree (MD DDS DVM LLB JD)     1852\n",
       " Doctorate degree(PhD EdD)                  1318\n",
       " Less than 1st grade                         829\n",
       "Name: count, dtype: int64"
      ]
     },
     "execution_count": 19,
     "metadata": {},
     "output_type": "execute_result"
    }
   ],
   "source": [
    "df1=df.copy(deep=True)\n",
    "df1['education'].value_counts()"
   ]
  },
  {
   "cell_type": "code",
   "execution_count": 20,
   "metadata": {
    "execution": {
     "iopub.execute_input": "2024-02-02T04:31:12.444739Z",
     "iopub.status.busy": "2024-02-02T04:31:12.444191Z",
     "iopub.status.idle": "2024-02-02T04:31:13.578143Z",
     "shell.execute_reply": "2024-02-02T04:31:13.576579Z",
     "shell.execute_reply.started": "2024-02-02T04:31:12.4447Z"
    }
   },
   "outputs": [],
   "source": [
    "df1.replace({' 7th and 8th grade':'upto 12th',' Less than 1st grade':'upto 12th',\n",
    "             ' 1st 2nd 3rd or 4th grade':'upto 12th',\n",
    "            ' 5th or 6th grade':'upto 12th',' 9th grade':'upto 12th',' 11th grade':'upto 12th',\n",
    "                ' 10th grade':'upto 12th',' 12th grade no diploma':'upto 12th'},inplace=True)"
   ]
  },
  {
   "cell_type": "code",
   "execution_count": 21,
   "metadata": {
    "execution": {
     "iopub.execute_input": "2024-02-02T04:31:13.581193Z",
     "iopub.status.busy": "2024-02-02T04:31:13.580185Z",
     "iopub.status.idle": "2024-02-02T04:31:13.938713Z",
     "shell.execute_reply": "2024-02-02T04:31:13.937813Z",
     "shell.execute_reply.started": "2024-02-02T04:31:13.581144Z"
    }
   },
   "outputs": [
    {
     "data": {
      "text/plain": [
       "<AxesSubplot:ylabel='education'>"
      ]
     },
     "execution_count": 21,
     "metadata": {},
     "output_type": "execute_result"
    },
    {
     "data": {
      "image/png": "[encoded data removed]",
      "text/plain": [
       "<Figure size 432x288 with 1 Axes>"
      ]
     },
     "metadata": {},
     "output_type": "display_data"
    }
   ],
   "source": [
    "df1['education'].value_counts().plot(kind='barh')"
   ]
  },
  {
   "cell_type": "code",
   "execution_count": 22,
   "metadata": {
    "execution": {
     "iopub.execute_input": "2024-02-02T04:31:13.941536Z",
     "iopub.status.busy": "2024-02-02T04:31:13.939847Z",
     "iopub.status.idle": "2024-02-02T04:31:14.088478Z",
     "shell.execute_reply": "2024-02-02T04:31:14.08748Z",
     "shell.execute_reply.started": "2024-02-02T04:31:13.941453Z"
    }
   },
   "outputs": [
    {
     "name": "stdout",
     "output_type": "stream",
     "text": [
      "Income below limit for people upto 12th: 99.111409604009\n",
      "Income Above limit for people upto 12th: 0.8885903959910109\n"
     ]
    }
   ],
   "source": [
    "print(\"Income below limit for people upto 12th:\",len(df1[(df1['education']=='upto 12th') & (df1['income_above_limit']=='Below limit')])\n",
    "/len(df1[df1['education']=='upto 12th'])*100)\n",
    "print(\"Income Above limit for people upto 12th:\",len(df1[(df1['education']=='upto 12th') & (df1['income_above_limit']=='Above limit')])\n",
    "      /len(df1[df1['education']=='upto 12th'])*100)"
   ]
  },
  {
   "cell_type": "markdown",
   "metadata": {},
   "source": [
    "<div style=\"border-radius:10px; border:#DEB887 solid; padding: 15px; background-color: #FFFAF0; font-size:100%; text-align:left\">\n",
    "<h3 align=\"left\"><font color='#DEB887'>💡 Observations:</font></h3>\n",
    "   \n",
    "* People with education upto only 12th are under the income limit with a few exceptions\n",
    "* There are so many childrens in the data \n",
    "* Also after converting all the grades upto 12th we find that also forms a major proportion if combined"
   ]
  },
  {
   "cell_type": "markdown",
   "metadata": {},
   "source": [
    "<div style=\"border-radius:10px; border: #0080FF solid; padding: 15px; background-color: #CEF6F5; font-size:100%; text-align:left\">\n",
    "<font color='#0080FF'>Question 2: Does citizenship have any impact on income?</font>"
   ]
  },
  {
   "cell_type": "code",
   "execution_count": 23,
   "metadata": {
    "execution": {
     "iopub.execute_input": "2024-02-02T04:31:14.089814Z",
     "iopub.status.busy": "2024-02-02T04:31:14.089557Z",
     "iopub.status.idle": "2024-02-02T04:31:14.10819Z",
     "shell.execute_reply": "2024-02-02T04:31:14.107204Z",
     "shell.execute_reply.started": "2024-02-02T04:31:14.089795Z"
    },
    "scrolled": true
   },
   "outputs": [
    {
     "data": {
      "text/plain": [
       "citizenship\n",
       "Native                                          185669\n",
       " Foreign born- Not a citizen of U S              14127\n",
       " Foreign born- U S citizen by naturalization      6208\n",
       " Native- Born abroad of American Parent(s)        1924\n",
       " Native- Born in Puerto Rico or U S Outlying      1571\n",
       "Name: count, dtype: int64"
      ]
     },
     "execution_count": 23,
     "metadata": {},
     "output_type": "execute_result"
    }
   ],
   "source": [
    "df['citizenship'].value_counts()"
   ]
  },
  {
   "cell_type": "code",
   "execution_count": 24,
   "metadata": {
    "execution": {
     "iopub.execute_input": "2024-02-02T04:31:14.110371Z",
     "iopub.status.busy": "2024-02-02T04:31:14.109745Z",
     "iopub.status.idle": "2024-02-02T04:31:14.732979Z",
     "shell.execute_reply": "2024-02-02T04:31:14.731734Z",
     "shell.execute_reply.started": "2024-02-02T04:31:14.110339Z"
    }
   },
   "outputs": [
    {
     "data": {
      "image/png": "[encoded data removed]",
      "text/plain": [
       "<Figure size 1080x360 with 2 Axes>"
      ]
     },
     "metadata": {},
     "output_type": "display_data"
    }
   ],
   "source": [
    "fig, axs = plt.subplots(1, 2, figsize=(15, 5))\n",
    "x_data=df['citizenship'].value_counts()\n",
    "axs[0].set_title(\"Types of citizens\")\n",
    "sns.barplot(x=x_data.values,y=x_data.index,ax=axs[0])\n",
    "\n",
    "\n",
    "\n",
    "axs[1].set_title(\"Types of Citizens By Income limit\")\n",
    "data1=len(df.loc[(df['citizenship']=='Native') & (df['income_above_limit']=='Below limit')])/len(df.loc[(df['citizenship']=='Native')])\n",
    "data2=len(df.loc[(df['citizenship']!='Native') & (df['income_above_limit']=='Below limit')])/len(df.loc[(df['citizenship']!='Native')])\n",
    "series=(pd.Series({'Native citizenship having income below limit':data1,\n",
    "              'Non-Native citizenship having income below limit':data2}))\n",
    "sns.barplot(y=series.values,x=series.index,ax=axs[1])\n",
    "plt.show()"
   ]
  },
  {
   "cell_type": "markdown",
   "metadata": {},
   "source": [
    "<div class=\"alert alert-success\" style=\"font-size:14px; font-family:verdana; line-height: 1.7em;\"> \n",
    "\n",
    "It seems there is no discrimination as almost both natives and non natives have very similar below income rate"
   ]
  },
  {
   "cell_type": "markdown",
   "metadata": {},
   "source": [
    "<div style=\"border-radius:10px; border: #0080FF solid; padding: 15px; background-color: #CEF6F5; font-size:100%; text-align:left\">\n",
    "<font color='#0080FF'>Question 3: Does number of employed persons matter?</font>"
   ]
  },
  {
   "cell_type": "code",
   "execution_count": 25,
   "metadata": {
    "execution": {
     "iopub.execute_input": "2024-02-02T04:31:14.734694Z",
     "iopub.status.busy": "2024-02-02T04:31:14.734361Z",
     "iopub.status.idle": "2024-02-02T04:31:15.138187Z",
     "shell.execute_reply": "2024-02-02T04:31:15.137395Z",
     "shell.execute_reply.started": "2024-02-02T04:31:14.734667Z"
    }
   },
   "outputs": [
    {
     "data": {
      "image/png": "[encoded data removed]",
      "text/plain": [
       "<Figure size 432x288 with 1 Axes>"
      ]
     },
     "metadata": {},
     "output_type": "display_data"
    }
   ],
   "source": [
    "data=pd.Series({'Employed more than 1 but income is below limit:':len(df.loc[(df['total_employed']>1) & (df['income_above_limit']=='Below limit')])/len(df.loc[(df['total_employed']>1)]) * 100,\n",
    "'Employed only 1 but income is below limit':len(df.loc[(df['total_employed']==1) & (df['income_above_limit']=='Below limit')])/len(df.loc[(df['total_employed']==1)]) * 100,\n",
    "'None employed and income is below limit':len(df.loc[(df['total_employed']==0) & (df['income_above_limit']=='Below limit')])/len(df.loc[(df['total_employed']==0)]) * 100})\n",
    "sns.barplot(y=data.index,x=data.values)\n",
    "plt.show()"
   ]
  },
  {
   "cell_type": "code",
   "execution_count": 26,
   "metadata": {
    "execution": {
     "iopub.execute_input": "2024-02-02T04:31:15.140109Z",
     "iopub.status.busy": "2024-02-02T04:31:15.139783Z",
     "iopub.status.idle": "2024-02-02T04:31:15.205463Z",
     "shell.execute_reply": "2024-02-02T04:31:15.204265Z",
     "shell.execute_reply.started": "2024-02-02T04:31:15.140081Z"
    }
   },
   "outputs": [
    {
     "name": "stdout",
     "output_type": "stream",
     "text": [
      "People above income limit with more than 1 employed: 10199\n",
      "People above income limit with only 1 employed: 2158\n"
     ]
    }
   ],
   "source": [
    "print('People above income limit with more than 1 employed:',len(df.loc[(df['total_employed']>1) & (df['income_above_limit']=='Above limit')]))\n",
    "print('People above income limit with only 1 employed:',len(df.loc[(df['total_employed']==1) & (df['income_above_limit']=='Above limit')]))"
   ]
  },
  {
   "cell_type": "code",
   "execution_count": 27,
   "metadata": {
    "execution": {
     "iopub.execute_input": "2024-02-02T04:31:15.207071Z",
     "iopub.status.busy": "2024-02-02T04:31:15.206795Z",
     "iopub.status.idle": "2024-02-02T04:31:16.80351Z",
     "shell.execute_reply": "2024-02-02T04:31:16.802679Z",
     "shell.execute_reply.started": "2024-02-02T04:31:15.207048Z"
    }
   },
   "outputs": [
    {
     "data": {
      "image/png": "[encoded data removed]",
      "text/plain": [
       "<Figure size 1080x720 with 4 Axes>"
      ]
     },
     "metadata": {},
     "output_type": "display_data"
    }
   ],
   "source": [
    "# Create subplots\n",
    "fig, axes = plt.subplots(2, 2, figsize=(15, 10))\n",
    "\n",
    "# Plot the distribution of Age\n",
    "sns.histplot(df['age'], bins=30, ax=axes[0, 0])\n",
    "axes[0, 0].set_title('Distribution of Age', fontsize=16)\n",
    "axes[0, 0].set_xlabel('Age', fontsize=12)\n",
    "axes[0, 0].set_ylabel('Number of people', fontsize=12)\n",
    "\n",
    "# Plot the distribution of working_week_per_year\n",
    "sns.histplot(df['working_week_per_year'], bins=30, color='red', ax=axes[0, 1])\n",
    "axes[0, 1].set_title('Distribution of working_week_per_year', fontsize=16)\n",
    "axes[0, 1].set_xlabel('working_week_per_year', fontsize=12)\n",
    "axes[0, 1].set_ylabel('Number of people', fontsize=12)\n",
    "\n",
    "# Plot the distribution of importance_of_record\n",
    "sns.histplot(df['importance_of_record'], bins=50, color='blue', ax=axes[1, 0])\n",
    "axes[1, 0].set_title('Distribution of importance_of_record', fontsize=16)\n",
    "axes[1, 0].set_xlabel('importance_of_record', fontsize=12)\n",
    "axes[1, 0].set_ylabel('Number of people', fontsize=12)\n",
    "\n",
    "# Plot the distribution of wage_per_hour\n",
    "sns.histplot(df['wage_per_hour'], bins=35, ax=axes[1, 1])\n",
    "axes[1, 1].set_title('Distribution of wage_per_hour', fontsize=16)\n",
    "axes[1, 1].set_xlabel('wage_per_hour', fontsize=12)\n",
    "axes[1, 1].set_ylabel('Number of people', fontsize=12)\n",
    "\n",
    "# Adjust layout\n",
    "plt.tight_layout()\n",
    "\n",
    "# Show the subplots\n",
    "plt.show()"
   ]
  },
  {
   "cell_type": "markdown",
   "metadata": {},
   "source": [
    "<div style=\"border-radius:10px; border:#DEB887 solid; padding: 15px; background-color: #FFFAF0; font-size:100%; text-align:left\">\n",
    "<h3 align=\"left\"><font color='#DEB887'>💡 Observations:</font></h3>\n",
    "   \n",
    "* The working week per hour again shows that as there are so many children the ditribution has a high peak at 0 working hours\n",
    "* There are so many people with low pages i.e. less than 2000"
   ]
  },
  {
   "cell_type": "code",
   "execution_count": 28,
   "metadata": {
    "execution": {
     "iopub.execute_input": "2024-02-02T04:31:16.811233Z",
     "iopub.status.busy": "2024-02-02T04:31:16.810963Z",
     "iopub.status.idle": "2024-02-02T04:31:17.112416Z",
     "shell.execute_reply": "2024-02-02T04:31:17.111312Z",
     "shell.execute_reply.started": "2024-02-02T04:31:16.811211Z"
    }
   },
   "outputs": [
    {
     "data": {
      "image/png": "[encoded data removed]",
      "text/plain": [
       "<Figure size 1440x720 with 1 Axes>"
      ]
     },
     "metadata": {},
     "output_type": "display_data"
    }
   ],
   "source": [
    "race = df['race'].value_counts()\n",
    "\n",
    "plt.figure(figsize=(20, 10))\n",
    "plt.pie(race.values, labels=race.index,\n",
    "        startangle=50, autopct='%1.1f%%')\n",
    "centre_circle = plt.Circle((0, 0), 0.7, fc='white')\n",
    "fig = plt.gcf()\n",
    "fig.gca().add_artist(centre_circle)\n",
    "plt.title('race distribution', fontdict={\n",
    "          'fontname': 'Monospace', 'fontsize': 30, 'fontweight': 'bold'})\n",
    "plt.axis('equal')\n",
    "plt.legend(prop={'size': 15},loc='upper left')\n",
    "plt.show()"
   ]
  },
  {
   "cell_type": "code",
   "execution_count": 29,
   "metadata": {
    "execution": {
     "iopub.execute_input": "2024-02-02T04:31:17.114483Z",
     "iopub.status.busy": "2024-02-02T04:31:17.113911Z",
     "iopub.status.idle": "2024-02-02T04:31:17.415967Z",
     "shell.execute_reply": "2024-02-02T04:31:17.415085Z",
     "shell.execute_reply.started": "2024-02-02T04:31:17.114449Z"
    }
   },
   "outputs": [
    {
     "name": "stdout",
     "output_type": "stream",
     "text": [
      "Males with income below limit: 89.86248324479969 %\n",
      "Females with income below limit: 97.43712310633916 %\n"
     ]
    }
   ],
   "source": [
    "print('Males with income below limit:',len(df.loc[(df['gender']==' Male') & (df['income_above_limit']=='Below limit')])/len(df.loc[(df['gender']==' Male')]) * 100, '%')\n",
    "print('Females with income below limit:',len(df.loc[(df['gender']!=' Male') & (df['income_above_limit']=='Below limit')])/len(df.loc[(df['gender']!=' Male')]) * 100, '%')"
   ]
  },
  {
   "cell_type": "markdown",
   "metadata": {},
   "source": [
    "*There is No Gender Discremination, No High Differenc*e "
   ]
  },
  {
   "cell_type": "code",
   "execution_count": 30,
   "metadata": {
    "execution": {
     "iopub.execute_input": "2024-02-02T04:31:17.417341Z",
     "iopub.status.busy": "2024-02-02T04:31:17.41707Z",
     "iopub.status.idle": "2024-02-02T04:31:18.423316Z",
     "shell.execute_reply": "2024-02-02T04:31:18.422113Z",
     "shell.execute_reply.started": "2024-02-02T04:31:17.417319Z"
    }
   },
   "outputs": [
    {
     "data": {
      "image/png": "[encoded data removed]",
      "text/plain": [
       "<Figure size 1440x504 with 1 Axes>"
      ]
     },
     "metadata": {},
     "output_type": "display_data"
    }
   ],
   "source": [
    "# Creating a countplot of income across age\n",
    "plt.figure(figsize=(20, 7))\n",
    "sns.countplot(x=df['age'], hue=df['income_above_limit'])\n",
    "plt.title('Distribution of Income across Age', fontdict={\n",
    "          'fontname': 'Monospace', 'fontsize': 20, 'fontweight': 'bold'})\n",
    "plt.xlabel('Age', fontdict={'fontname': 'Monospace', 'fontsize': 15})\n",
    "plt.ylabel('Number of people', fontdict={\n",
    "           'fontname': 'Monospace', 'fontsize': 15})\n",
    "plt.tick_params(labelsize=12)\n",
    "plt.xticks(rotation=90)\n",
    "plt.legend(loc=1, prop={'size': 15})\n",
    "plt.show()"
   ]
  },
  {
   "cell_type": "code",
   "execution_count": 31,
   "metadata": {
    "execution": {
     "iopub.execute_input": "2024-02-02T04:31:18.425061Z",
     "iopub.status.busy": "2024-02-02T04:31:18.424744Z",
     "iopub.status.idle": "2024-02-02T04:31:18.86737Z",
     "shell.execute_reply": "2024-02-02T04:31:18.866352Z",
     "shell.execute_reply.started": "2024-02-02T04:31:18.425035Z"
    }
   },
   "outputs": [
    {
     "data": {
      "image/png": "[encoded data removed]",
      "text/plain": [
       "<Figure size 1440x504 with 1 Axes>"
      ]
     },
     "metadata": {},
     "output_type": "display_data"
    }
   ],
   "source": [
    "# Creating a countplot of income across Marital Status\n",
    "plt.figure(figsize=(20, 7))\n",
    "sns.countplot(x=df['marital_status'], hue=df['income_above_limit'])\n",
    "plt.title('Income across Marital Status', fontdict={\n",
    "          'fontname': 'Monospace', 'fontsize': 20, 'fontweight': 'bold'})\n",
    "plt.xlabel('Marital Status', fontdict={\n",
    "           'fontname': 'Monospace', 'fontsize': 15})\n",
    "plt.ylabel('Number of people', fontdict={\n",
    "           'fontname': 'Monospace', 'fontsize': 15})\n",
    "plt.tick_params(labelsize=12)\n",
    "plt.legend(loc=1, prop={'size': 15})\n",
    "plt.show()"
   ]
  },
  {
   "cell_type": "code",
   "execution_count": 32,
   "metadata": {
    "execution": {
     "iopub.execute_input": "2024-02-02T04:31:18.86882Z",
     "iopub.status.busy": "2024-02-02T04:31:18.868546Z",
     "iopub.status.idle": "2024-02-02T04:31:19.705505Z",
     "shell.execute_reply": "2024-02-02T04:31:19.704687Z",
     "shell.execute_reply.started": "2024-02-02T04:31:18.868796Z"
    }
   },
   "outputs": [
    {
     "data": {
      "image/png": "[encoded data removed]",
      "text/plain": [
       "<Figure size 1080x720 with 2 Axes>"
      ]
     },
     "metadata": {},
     "output_type": "display_data"
    }
   ],
   "source": [
    "df_num=df.select_dtypes(exclude=object)\n",
    "corr = df_num.corr(method='pearson')\n",
    "with sns.axes_style(\"ticks\"):\n",
    "    f, ax = plt.subplots(figsize=(15, 10))\n",
    "    ax = sns.heatmap(corr, square=True,annot=True)\n",
    "plt.show()"
   ]
  },
  {
   "cell_type": "markdown",
   "metadata": {},
   "source": [
    "<div style=\"border-radius:10px; border:#DEB887 solid; padding: 15px; background-color: #FFFAF0; font-size:100%; text-align:left\">\n",
    "<h3 align=\"left\"><font color='#DEB887'>💡 Observations:</font></h3>\n",
    "    \n",
    "In this dataset, the most number of people are young, white, male, high school graduates working 50 weeks per year.\n",
    "\n",
    "From the correlation heatmap, we can see that the dependent feature 'income' is highly correlated with capital gains, total_employed, industry code, working week per year"
   ]
  },
  {
   "cell_type": "markdown",
   "metadata": {},
   "source": [
    "# <span style=\"font-family:cursive;text-align:center\">⚙️ Data Preprocessing</span>"
   ]
  },
  {
   "cell_type": "markdown",
   "metadata": {},
   "source": [
    "### <span style=\"font-family:cursive;text-align:center\">Null values handling</span>"
   ]
  },
  {
   "cell_type": "code",
   "execution_count": 33,
   "metadata": {
    "execution": {
     "iopub.execute_input": "2024-02-02T04:31:19.708051Z",
     "iopub.status.busy": "2024-02-02T04:31:19.706721Z",
     "iopub.status.idle": "2024-02-02T04:31:19.885356Z",
     "shell.execute_reply": "2024-02-02T04:31:19.883924Z",
     "shell.execute_reply.started": "2024-02-02T04:31:19.707998Z"
    }
   },
   "outputs": [],
   "source": [
    "missing_df=missing_values(df)"
   ]
  },
  {
   "cell_type": "code",
   "execution_count": 34,
   "metadata": {
    "execution": {
     "iopub.execute_input": "2024-02-02T04:31:19.887137Z",
     "iopub.status.busy": "2024-02-02T04:31:19.886838Z",
     "iopub.status.idle": "2024-02-02T04:31:19.893821Z",
     "shell.execute_reply": "2024-02-02T04:31:19.892353Z",
     "shell.execute_reply.started": "2024-02-02T04:31:19.887116Z"
    }
   },
   "outputs": [
    {
     "name": "stdout",
     "output_type": "stream",
     "text": [
      "17 Column(s) have missing values\n"
     ]
    }
   ],
   "source": [
    "print(f\"{len(missing_df)} Column(s) have missing values\")"
   ]
  },
  {
   "cell_type": "code",
   "execution_count": 35,
   "metadata": {
    "execution": {
     "iopub.execute_input": "2024-02-02T04:31:19.895695Z",
     "iopub.status.busy": "2024-02-02T04:31:19.89533Z",
     "iopub.status.idle": "2024-02-02T04:31:19.907842Z",
     "shell.execute_reply": "2024-02-02T04:31:19.906864Z",
     "shell.execute_reply.started": "2024-02-02T04:31:19.895645Z"
    }
   },
   "outputs": [
    {
     "name": "stdout",
     "output_type": "stream",
     "text": [
      "14 Column(s) have missing values more than 50%\n"
     ]
    },
    {
     "data": {
      "text/plain": [
       "Index(['class', 'education_institute', 'unemployment_reason', 'is_labor_union',\n",
       "       'occupation_code_main', 'under_18_family',\n",
       "       'veterans_admin_questionnaire', 'migration_code_change_in_msa',\n",
       "       'migration_prev_sunbelt', 'migration_code_move_within_reg',\n",
       "       'migration_code_change_in_reg', 'residence_1_year_ago',\n",
       "       'old_residence_reg', 'old_residence_state'],\n",
       "      dtype='object')"
      ]
     },
     "execution_count": 35,
     "metadata": {},
     "output_type": "execute_result"
    }
   ],
   "source": [
    "print(f\"{missing_df[missing_df['% Missing']>50].shape[0]} Column(s) have missing values more than 50%\")\n",
    "missing_df[missing_df['% Missing']>50].index"
   ]
  },
  {
   "cell_type": "code",
   "execution_count": 36,
   "metadata": {
    "execution": {
     "iopub.execute_input": "2024-02-02T04:31:19.909329Z",
     "iopub.status.busy": "2024-02-02T04:31:19.908963Z",
     "iopub.status.idle": "2024-02-02T04:31:19.91657Z",
     "shell.execute_reply": "2024-02-02T04:31:19.915241Z",
     "shell.execute_reply.started": "2024-02-02T04:31:19.9093Z"
    }
   },
   "outputs": [],
   "source": [
    "## Dropping columns having missing values greater than 50%\n",
    "columns_to_drop=['class', 'education_institute', 'unemployment_reason', 'is_labor_union',\n",
    "       'occupation_code_main', 'under_18_family',\n",
    "       'veterans_admin_questionnaire', 'migration_code_change_in_msa',\n",
    "       'migration_prev_sunbelt', 'migration_code_move_within_reg',\n",
    "       'migration_code_change_in_reg', 'residence_1_year_ago',\n",
    "       'old_residence_reg', 'old_residence_state']"
   ]
  },
  {
   "cell_type": "code",
   "execution_count": 37,
   "metadata": {
    "execution": {
     "iopub.execute_input": "2024-02-02T04:31:19.918668Z",
     "iopub.status.busy": "2024-02-02T04:31:19.918208Z",
     "iopub.status.idle": "2024-02-02T04:31:19.991433Z",
     "shell.execute_reply": "2024-02-02T04:31:19.990399Z",
     "shell.execute_reply.started": "2024-02-02T04:31:19.918609Z"
    }
   },
   "outputs": [
    {
     "name": "stdout",
     "output_type": "stream",
     "text": [
      "The shape of data before dropping columns with high proportion of NaN values is - \n",
      "The shape of data is (209499, 42)\n",
      "---------------------------------------------------------------------------------------------------\n",
      "\n",
      "The shape of data after dropping columns with high proportion of NaN values is - \n",
      "The shape of data is (209499, 28)\n"
     ]
    }
   ],
   "source": [
    "print('The shape of data before dropping columns with high proportion of NaN values is - ')\n",
    "print(f'The shape of data is {df.shape}')\n",
    "\n",
    "df = df.drop(columns_to_drop,axis=1)\n",
    "\n",
    "print('---------------------------------------------------------------------------------------------------\\n')\n",
    "print('The shape of data after dropping columns with high proportion of NaN values is - ')\n",
    "print(f'The shape of data is {df.shape}')"
   ]
  },
  {
   "cell_type": "code",
   "execution_count": 38,
   "metadata": {
    "execution": {
     "iopub.execute_input": "2024-02-02T04:31:19.993337Z",
     "iopub.status.busy": "2024-02-02T04:31:19.99302Z",
     "iopub.status.idle": "2024-02-02T04:31:20.097535Z",
     "shell.execute_reply": "2024-02-02T04:31:20.096624Z",
     "shell.execute_reply.started": "2024-02-02T04:31:19.993309Z"
    }
   },
   "outputs": [
    {
     "data": {
      "text/html": [
       "<div>\n",
       "<style scoped>\n",
       "    .dataframe tbody tr th:only-of-type {\n",
       "        vertical-align: middle;\n",
       "    }\n",
       "\n",
       "    .dataframe tbody tr th {\n",
       "        vertical-align: top;\n",
       "    }\n",
       "\n",
       "    .dataframe thead th {\n",
       "        text-align: right;\n",
       "    }\n",
       "</style>\n",
       "<table border=\"1\" class=\"dataframe\">\n",
       "  <thead>\n",
       "    <tr style=\"text-align: right;\">\n",
       "      <th></th>\n",
       "      <th>% Missing</th>\n",
       "    </tr>\n",
       "  </thead>\n",
       "  <tbody>\n",
       "    <tr>\n",
       "      <th>country_of_birth_own</th>\n",
       "      <td>1.750366</td>\n",
       "    </tr>\n",
       "    <tr>\n",
       "      <th>country_of_birth_father</th>\n",
       "      <td>3.427701</td>\n",
       "    </tr>\n",
       "    <tr>\n",
       "      <th>country_of_birth_mother</th>\n",
       "      <td>3.110277</td>\n",
       "    </tr>\n",
       "  </tbody>\n",
       "</table>\n",
       "</div>"
      ],
      "text/plain": [
       "                         % Missing\n",
       "country_of_birth_own      1.750366\n",
       "country_of_birth_father   3.427701\n",
       "country_of_birth_mother   3.110277"
      ]
     },
     "execution_count": 38,
     "metadata": {},
     "output_type": "execute_result"
    }
   ],
   "source": [
    "missing_values(df)"
   ]
  },
  {
   "cell_type": "markdown",
   "metadata": {},
   "source": [
    "* Country of birth own, father, mother are not important features that may have any affect on model"
   ]
  },
  {
   "cell_type": "code",
   "execution_count": 39,
   "metadata": {
    "execution": {
     "iopub.execute_input": "2024-02-02T04:31:20.099405Z",
     "iopub.status.busy": "2024-02-02T04:31:20.099034Z",
     "iopub.status.idle": "2024-02-02T04:31:20.149872Z",
     "shell.execute_reply": "2024-02-02T04:31:20.148809Z",
     "shell.execute_reply.started": "2024-02-02T04:31:20.099375Z"
    }
   },
   "outputs": [],
   "source": [
    "df = df.drop(['country_of_birth_own','country_of_birth_father','country_of_birth_mother'],axis=1)"
   ]
  },
  {
   "cell_type": "code",
   "execution_count": 40,
   "metadata": {
    "execution": {
     "iopub.execute_input": "2024-02-02T04:31:20.151581Z",
     "iopub.status.busy": "2024-02-02T04:31:20.151303Z",
     "iopub.status.idle": "2024-02-02T04:31:20.236343Z",
     "shell.execute_reply": "2024-02-02T04:31:20.235418Z",
     "shell.execute_reply.started": "2024-02-02T04:31:20.151559Z"
    }
   },
   "outputs": [
    {
     "data": {
      "text/plain": [
       "0"
      ]
     },
     "execution_count": 40,
     "metadata": {},
     "output_type": "execute_result"
    }
   ],
   "source": [
    "len(missing_values(df))"
   ]
  },
  {
   "cell_type": "code",
   "execution_count": 41,
   "metadata": {
    "execution": {
     "iopub.execute_input": "2024-02-02T04:31:20.238083Z",
     "iopub.status.busy": "2024-02-02T04:31:20.237579Z",
     "iopub.status.idle": "2024-02-02T04:31:20.242611Z",
     "shell.execute_reply": "2024-02-02T04:31:20.242031Z",
     "shell.execute_reply.started": "2024-02-02T04:31:20.238058Z"
    }
   },
   "outputs": [
    {
     "data": {
      "text/plain": [
       "(209499, 25)"
      ]
     },
     "execution_count": 41,
     "metadata": {},
     "output_type": "execute_result"
    }
   ],
   "source": [
    "df.shape"
   ]
  },
  {
   "cell_type": "markdown",
   "metadata": {},
   "source": [
    "### Dealing With Outliers "
   ]
  },
  {
   "cell_type": "markdown",
   "metadata": {
    "execution": {
     "iopub.execute_input": "2023-09-25T06:40:47.747151Z",
     "iopub.status.busy": "2023-09-25T06:40:47.746518Z",
     "iopub.status.idle": "2023-09-25T06:40:47.77412Z",
     "shell.execute_reply": "2023-09-25T06:40:47.772727Z",
     "shell.execute_reply.started": "2023-09-25T06:40:47.747105Z"
    }
   },
   "source": [
    "* These columns are having most outliers \n",
    "* 'wage_per_hour','gains','losses','stocks_status','importance_of_record'\n",
    "* Some of the possible ways to tackle this outlier is to transform values, clip values, drop values or to retain information"
   ]
  },
  {
   "cell_type": "markdown",
   "metadata": {},
   "source": [
    "* Clipping doesn't seem nice option as it will delete the correct information\n",
    "* We will check the number of outliers per column to see what can be done"
   ]
  },
  {
   "cell_type": "code",
   "execution_count": 43,
   "metadata": {
    "execution": {
     "iopub.execute_input": "2024-02-02T04:31:22.424838Z",
     "iopub.status.busy": "2024-02-02T04:31:22.424285Z",
     "iopub.status.idle": "2024-02-02T04:31:22.851151Z",
     "shell.execute_reply": "2024-02-02T04:31:22.84984Z",
     "shell.execute_reply.started": "2024-02-02T04:31:22.424809Z"
    }
   },
   "outputs": [
    {
     "name": "stdout",
     "output_type": "stream",
     "text": [
      "The percentage of outliers in wage_per_hour: 5.659215557114831 %\n",
      "The percentage of outliers in gains: 3.7374880071026593 %\n",
      "The percentage of outliers in losses: 1.9389114029183911 %\n",
      "The percentage of outliers in stocks_status: 10.516517978606103 %\n",
      "The percentage of outliers in importance_of_record: 3.22626838314264 %\n"
     ]
    }
   ],
   "source": [
    "for i in ['wage_per_hour','gains','losses','stocks_status','importance_of_record']:\n",
    "    IQR=df[i].quantile(0.75)-df[i].quantile(0.25)\n",
    "    lower=df[i].quantile(0.25)-(IQR*1.5)\n",
    "    upper=df[i].quantile(0.75)+(IQR*1.5)\n",
    "    \n",
    "    outliers=[]\n",
    "    \n",
    "    for j in df[i]:\n",
    "        if j<lower:\n",
    "            outliers.append(j)\n",
    "    for k in df[i]:\n",
    "        if k>upper:\n",
    "            outliers.append(k)\n",
    "    print(f'The percentage of outliers in {i}:',(len(outliers)/len(df)*100),'%')\n",
    "    "
   ]
  },
  {
   "cell_type": "markdown",
   "metadata": {},
   "source": [
    "*As the outliers percent are less we will proceed with retaining information and check if transformation can help*"
   ]
  },
  {
   "cell_type": "code",
   "execution_count": 44,
   "metadata": {
    "execution": {
     "iopub.execute_input": "2024-02-02T04:31:22.852436Z",
     "iopub.status.busy": "2024-02-02T04:31:22.852171Z",
     "iopub.status.idle": "2024-02-02T04:31:22.880376Z",
     "shell.execute_reply": "2024-02-02T04:31:22.879452Z",
     "shell.execute_reply.started": "2024-02-02T04:31:22.852414Z"
    }
   },
   "outputs": [
    {
     "data": {
      "text/html": [
       "<div>\n",
       "<style scoped>\n",
       "    .dataframe tbody tr th:only-of-type {\n",
       "        vertical-align: middle;\n",
       "    }\n",
       "\n",
       "    .dataframe tbody tr th {\n",
       "        vertical-align: top;\n",
       "    }\n",
       "\n",
       "    .dataframe thead th {\n",
       "        text-align: right;\n",
       "    }\n",
       "</style>\n",
       "<table border=\"1\" class=\"dataframe\">\n",
       "  <thead>\n",
       "    <tr style=\"text-align: right;\">\n",
       "      <th></th>\n",
       "      <th>age</th>\n",
       "      <th>gender</th>\n",
       "      <th>education</th>\n",
       "      <th>marital_status</th>\n",
       "      <th>race</th>\n",
       "      <th>is_hispanic</th>\n",
       "      <th>employment_commitment</th>\n",
       "      <th>employment_stat</th>\n",
       "      <th>wage_per_hour</th>\n",
       "      <th>working_week_per_year</th>\n",
       "      <th>...</th>\n",
       "      <th>household_summary</th>\n",
       "      <th>vet_benefit</th>\n",
       "      <th>tax_status</th>\n",
       "      <th>gains</th>\n",
       "      <th>losses</th>\n",
       "      <th>stocks_status</th>\n",
       "      <th>citizenship</th>\n",
       "      <th>mig_year</th>\n",
       "      <th>importance_of_record</th>\n",
       "      <th>income_above_limit</th>\n",
       "    </tr>\n",
       "  </thead>\n",
       "  <tbody>\n",
       "    <tr>\n",
       "      <th>29548</th>\n",
       "      <td>74</td>\n",
       "      <td>Female</td>\n",
       "      <td>Some college but no degree</td>\n",
       "      <td>Widowed</td>\n",
       "      <td>White</td>\n",
       "      <td>All other</td>\n",
       "      <td>Not in labor force</td>\n",
       "      <td>0</td>\n",
       "      <td>0</td>\n",
       "      <td>0</td>\n",
       "      <td>...</td>\n",
       "      <td>Householder</td>\n",
       "      <td>2</td>\n",
       "      <td>Single</td>\n",
       "      <td>0</td>\n",
       "      <td>0</td>\n",
       "      <td>0</td>\n",
       "      <td>Native</td>\n",
       "      <td>95</td>\n",
       "      <td>1593.50</td>\n",
       "      <td>Below limit</td>\n",
       "    </tr>\n",
       "    <tr>\n",
       "      <th>165542</th>\n",
       "      <td>18</td>\n",
       "      <td>Female</td>\n",
       "      <td>11th grade</td>\n",
       "      <td>Never married</td>\n",
       "      <td>White</td>\n",
       "      <td>All other</td>\n",
       "      <td>Children or Armed Forces</td>\n",
       "      <td>0</td>\n",
       "      <td>0</td>\n",
       "      <td>13</td>\n",
       "      <td>...</td>\n",
       "      <td>Child 18 or older</td>\n",
       "      <td>2</td>\n",
       "      <td>Single</td>\n",
       "      <td>0</td>\n",
       "      <td>0</td>\n",
       "      <td>0</td>\n",
       "      <td>Native</td>\n",
       "      <td>94</td>\n",
       "      <td>986.33</td>\n",
       "      <td>Below limit</td>\n",
       "    </tr>\n",
       "    <tr>\n",
       "      <th>1437</th>\n",
       "      <td>36</td>\n",
       "      <td>Male</td>\n",
       "      <td>Associates degree-occup /vocational</td>\n",
       "      <td>Separated</td>\n",
       "      <td>White</td>\n",
       "      <td>All other</td>\n",
       "      <td>Full-time schedules</td>\n",
       "      <td>0</td>\n",
       "      <td>0</td>\n",
       "      <td>52</td>\n",
       "      <td>...</td>\n",
       "      <td>Child 18 or older</td>\n",
       "      <td>2</td>\n",
       "      <td>Head of household</td>\n",
       "      <td>0</td>\n",
       "      <td>0</td>\n",
       "      <td>0</td>\n",
       "      <td>Native</td>\n",
       "      <td>95</td>\n",
       "      <td>1143.34</td>\n",
       "      <td>Below limit</td>\n",
       "    </tr>\n",
       "    <tr>\n",
       "      <th>7013</th>\n",
       "      <td>5</td>\n",
       "      <td>Female</td>\n",
       "      <td>Children</td>\n",
       "      <td>Never married</td>\n",
       "      <td>White</td>\n",
       "      <td>All other</td>\n",
       "      <td>Children or Armed Forces</td>\n",
       "      <td>0</td>\n",
       "      <td>0</td>\n",
       "      <td>0</td>\n",
       "      <td>...</td>\n",
       "      <td>Child under 18 never married</td>\n",
       "      <td>0</td>\n",
       "      <td>Nonfiler</td>\n",
       "      <td>0</td>\n",
       "      <td>0</td>\n",
       "      <td>0</td>\n",
       "      <td>Native</td>\n",
       "      <td>95</td>\n",
       "      <td>886.02</td>\n",
       "      <td>Below limit</td>\n",
       "    </tr>\n",
       "    <tr>\n",
       "      <th>102404</th>\n",
       "      <td>35</td>\n",
       "      <td>Female</td>\n",
       "      <td>Bachelors degree(BA AB BS)</td>\n",
       "      <td>Married-civilian spouse present</td>\n",
       "      <td>White</td>\n",
       "      <td>All other</td>\n",
       "      <td>Children or Armed Forces</td>\n",
       "      <td>0</td>\n",
       "      <td>0</td>\n",
       "      <td>0</td>\n",
       "      <td>...</td>\n",
       "      <td>Spouse of householder</td>\n",
       "      <td>2</td>\n",
       "      <td>Joint both under 65</td>\n",
       "      <td>0</td>\n",
       "      <td>0</td>\n",
       "      <td>2</td>\n",
       "      <td>Native</td>\n",
       "      <td>94</td>\n",
       "      <td>2015.53</td>\n",
       "      <td>Below limit</td>\n",
       "    </tr>\n",
       "  </tbody>\n",
       "</table>\n",
       "<p>5 rows × 25 columns</p>\n",
       "</div>"
      ],
      "text/plain": [
       "        age   gender                             education  \\\n",
       "29548    74   Female            Some college but no degree   \n",
       "165542   18   Female                            11th grade   \n",
       "1437     36     Male   Associates degree-occup /vocational   \n",
       "7013      5   Female                              Children   \n",
       "102404   35   Female            Bachelors degree(BA AB BS)   \n",
       "\n",
       "                          marital_status    race is_hispanic  \\\n",
       "29548                            Widowed   White   All other   \n",
       "165542                     Never married   White   All other   \n",
       "1437                           Separated   White   All other   \n",
       "7013                       Never married   White   All other   \n",
       "102404   Married-civilian spouse present   White   All other   \n",
       "\n",
       "            employment_commitment  employment_stat  wage_per_hour  \\\n",
       "29548          Not in labor force                0              0   \n",
       "165542   Children or Armed Forces                0              0   \n",
       "1437          Full-time schedules                0              0   \n",
       "7013     Children or Armed Forces                0              0   \n",
       "102404   Children or Armed Forces                0              0   \n",
       "\n",
       "        working_week_per_year  ...              household_summary vet_benefit  \\\n",
       "29548                       0  ...                    Householder           2   \n",
       "165542                     13  ...              Child 18 or older           2   \n",
       "1437                       52  ...              Child 18 or older           2   \n",
       "7013                        0  ...   Child under 18 never married           0   \n",
       "102404                      0  ...          Spouse of householder           2   \n",
       "\n",
       "                  tax_status  gains losses stocks_status  citizenship  \\\n",
       "29548                 Single      0      0             0       Native   \n",
       "165542                Single      0      0             0       Native   \n",
       "1437       Head of household      0      0             0       Native   \n",
       "7013                Nonfiler      0      0             0       Native   \n",
       "102404   Joint both under 65      0      0             2       Native   \n",
       "\n",
       "       mig_year  importance_of_record  income_above_limit  \n",
       "29548        95               1593.50         Below limit  \n",
       "165542       94                986.33         Below limit  \n",
       "1437         95               1143.34         Below limit  \n",
       "7013         95                886.02         Below limit  \n",
       "102404       94               2015.53         Below limit  \n",
       "\n",
       "[5 rows x 25 columns]"
      ]
     },
     "execution_count": 44,
     "metadata": {},
     "output_type": "execute_result"
    }
   ],
   "source": [
    "df.sample(5)"
   ]
  },
  {
   "cell_type": "code",
   "execution_count": 45,
   "metadata": {
    "execution": {
     "iopub.execute_input": "2024-02-02T04:31:22.881814Z",
     "iopub.status.busy": "2024-02-02T04:31:22.881523Z",
     "iopub.status.idle": "2024-02-02T04:31:22.917734Z",
     "shell.execute_reply": "2024-02-02T04:31:22.916999Z",
     "shell.execute_reply.started": "2024-02-02T04:31:22.881792Z"
    }
   },
   "outputs": [],
   "source": [
    "df=df.drop(['household_stat'],axis=1)"
   ]
  },
  {
   "cell_type": "code",
   "execution_count": 46,
   "metadata": {
    "execution": {
     "iopub.execute_input": "2024-02-02T04:31:22.919079Z",
     "iopub.status.busy": "2024-02-02T04:31:22.918715Z",
     "iopub.status.idle": "2024-02-02T04:31:22.985935Z",
     "shell.execute_reply": "2024-02-02T04:31:22.98478Z",
     "shell.execute_reply.started": "2024-02-02T04:31:22.919058Z"
    }
   },
   "outputs": [
    {
     "name": "stdout",
     "output_type": "stream",
     "text": [
      "Numerical Features Count 13\n",
      "Categorical Features Count 11\n"
     ]
    }
   ],
   "source": [
    "numerical_fetures=df.select_dtypes(exclude=object)\n",
    "categorical_features=df.select_dtypes(include=object)\n",
    "print(\"Numerical Features Count\",len(numerical_features.columns))\n",
    "print(\"Categorical Features Count\",len(categorical_features.columns))"
   ]
  },
  {
   "cell_type": "markdown",
   "metadata": {},
   "source": [
    "### Handling Imbalanced Data"
   ]
  },
  {
   "cell_type": "code",
   "execution_count": 47,
   "metadata": {
    "execution": {
     "iopub.execute_input": "2024-02-02T04:31:22.98741Z",
     "iopub.status.busy": "2024-02-02T04:31:22.987119Z",
     "iopub.status.idle": "2024-02-02T04:31:23.01819Z",
     "shell.execute_reply": "2024-02-02T04:31:23.016711Z",
     "shell.execute_reply.started": "2024-02-02T04:31:22.987387Z"
    }
   },
   "outputs": [
    {
     "name": "stdout",
     "output_type": "stream",
     "text": [
      "The class Imbalance in the data is given below\n",
      "income_above_limit\n",
      "Below limit    196501\n",
      "Above limit     12998\n",
      "Name: count, dtype: int64 \n",
      "\n",
      "The class imbalance in terms of percentage is given below \n",
      "income_above_limit\n",
      "Below limit    93.795674\n",
      "Above limit     6.204326\n",
      "Name: proportion, dtype: float64\n"
     ]
    }
   ],
   "source": [
    "print('The class Imbalance in the data is given below')\n",
    "print(df['income_above_limit'].value_counts(),'\\n')\n",
    "print('The class imbalance in terms of percentage is given below ')\n",
    "print(f\"{df['income_above_limit'].value_counts(normalize=True)*100}\")"
   ]
  },
  {
   "cell_type": "markdown",
   "metadata": {},
   "source": [
    "\n",
    "    Clearly we have a highly imbalanced dataset available with us and hence we need to perform steps to mitigate the imbalance accordingly. So we are going Upsample the minority class (Here, minority class is 'Above limit')\n",
    "    Downsampling would not be good here as the that would decrease our samples from 200000 to 24000"
   ]
  },
  {
   "cell_type": "code",
   "execution_count": 48,
   "metadata": {
    "execution": {
     "iopub.execute_input": "2024-02-02T04:31:23.020277Z",
     "iopub.status.busy": "2024-02-02T04:31:23.019869Z",
     "iopub.status.idle": "2024-02-02T04:31:23.065784Z",
     "shell.execute_reply": "2024-02-02T04:31:23.064733Z",
     "shell.execute_reply.started": "2024-02-02T04:31:23.020246Z"
    }
   },
   "outputs": [],
   "source": [
    "X=df.drop(['income_above_limit'],axis=1)\n",
    "y=df['income_above_limit']"
   ]
  },
  {
   "cell_type": "code",
   "execution_count": 49,
   "metadata": {
    "execution": {
     "iopub.execute_input": "2024-02-02T04:31:23.067505Z",
     "iopub.status.busy": "2024-02-02T04:31:23.067188Z",
     "iopub.status.idle": "2024-02-02T04:31:23.075322Z",
     "shell.execute_reply": "2024-02-02T04:31:23.074011Z",
     "shell.execute_reply.started": "2024-02-02T04:31:23.06748Z"
    }
   },
   "outputs": [
    {
     "data": {
      "text/plain": [
       "[1, 2, 3, 4, 5, 6, 11, 14, 16, 20]"
      ]
     },
     "execution_count": 49,
     "metadata": {},
     "output_type": "execute_result"
    }
   ],
   "source": [
    "#creating the column_name index dictionary\n",
    "cat_col_index={col_name:i for i,col_name in enumerate(X.columns) if col_name in categorical_features.columns}\n",
    "\n",
    "list(cat_col_index.values())"
   ]
  },
  {
   "cell_type": "code",
   "execution_count": 50,
   "metadata": {
    "execution": {
     "iopub.execute_input": "2024-02-02T04:31:23.076831Z",
     "iopub.status.busy": "2024-02-02T04:31:23.076544Z",
     "iopub.status.idle": "2024-02-02T04:31:23.085773Z",
     "shell.execute_reply": "2024-02-02T04:31:23.084944Z",
     "shell.execute_reply.started": "2024-02-02T04:31:23.076811Z"
    }
   },
   "outputs": [],
   "source": [
    "oversampling=SMOTENC(categorical_features=list(cat_col_index.values()),random_state=37)"
   ]
  },
  {
   "cell_type": "code",
   "execution_count": 51,
   "metadata": {
    "execution": {
     "iopub.execute_input": "2024-02-02T04:31:23.086789Z",
     "iopub.status.busy": "2024-02-02T04:31:23.086522Z",
     "iopub.status.idle": "2024-02-02T04:32:16.744404Z",
     "shell.execute_reply": "2024-02-02T04:32:16.743351Z",
     "shell.execute_reply.started": "2024-02-02T04:31:23.086767Z"
    }
   },
   "outputs": [],
   "source": [
    "X_resampled,y_resampled=oversampling.fit_resample(X,y)"
   ]
  },
  {
   "cell_type": "code",
   "execution_count": 52,
   "metadata": {
    "execution": {
     "iopub.execute_input": "2024-02-02T04:32:16.746119Z",
     "iopub.status.busy": "2024-02-02T04:32:16.745753Z",
     "iopub.status.idle": "2024-02-02T04:32:16.753551Z",
     "shell.execute_reply": "2024-02-02T04:32:16.752492Z",
     "shell.execute_reply.started": "2024-02-02T04:32:16.746086Z"
    }
   },
   "outputs": [
    {
     "data": {
      "text/plain": [
       "(393002, 23)"
      ]
     },
     "execution_count": 52,
     "metadata": {},
     "output_type": "execute_result"
    }
   ],
   "source": [
    "X_resampled.shape"
   ]
  },
  {
   "cell_type": "code",
   "execution_count": 53,
   "metadata": {
    "execution": {
     "iopub.execute_input": "2024-02-02T04:32:16.755232Z",
     "iopub.status.busy": "2024-02-02T04:32:16.754987Z",
     "iopub.status.idle": "2024-02-02T04:32:16.767017Z",
     "shell.execute_reply": "2024-02-02T04:32:16.765982Z",
     "shell.execute_reply.started": "2024-02-02T04:32:16.755205Z"
    }
   },
   "outputs": [
    {
     "data": {
      "text/plain": [
       "(393002,)"
      ]
     },
     "execution_count": 53,
     "metadata": {},
     "output_type": "execute_result"
    }
   ],
   "source": [
    "y_resampled.shape"
   ]
  },
  {
   "cell_type": "code",
   "execution_count": 54,
   "metadata": {
    "execution": {
     "iopub.execute_input": "2024-02-02T04:32:16.768924Z",
     "iopub.status.busy": "2024-02-02T04:32:16.768252Z",
     "iopub.status.idle": "2024-02-02T04:32:16.807599Z",
     "shell.execute_reply": "2024-02-02T04:32:16.806351Z",
     "shell.execute_reply.started": "2024-02-02T04:32:16.768887Z"
    }
   },
   "outputs": [
    {
     "data": {
      "text/plain": [
       "income_above_limit\n",
       "Below limit    196501\n",
       "Above limit    196501\n",
       "Name: count, dtype: int64"
      ]
     },
     "execution_count": 54,
     "metadata": {},
     "output_type": "execute_result"
    }
   ],
   "source": [
    "y_resampled.value_counts()"
   ]
  },
  {
   "cell_type": "markdown",
   "metadata": {},
   "source": [
    "*Data is Balanced*"
   ]
  },
  {
   "cell_type": "markdown",
   "metadata": {},
   "source": [
    "### Train-Test Split"
   ]
  },
  {
   "cell_type": "code",
   "execution_count": 55,
   "metadata": {
    "execution": {
     "iopub.execute_input": "2024-02-02T04:32:16.810172Z",
     "iopub.status.busy": "2024-02-02T04:32:16.809742Z",
     "iopub.status.idle": "2024-02-02T04:32:17.147906Z",
     "shell.execute_reply": "2024-02-02T04:32:17.147193Z",
     "shell.execute_reply.started": "2024-02-02T04:32:16.810142Z"
    }
   },
   "outputs": [],
   "source": [
    "X_train,X_test,y_train,y_test=train_test_split(X_resampled,y_resampled,test_size=0.3,random_state=91)"
   ]
  },
  {
   "cell_type": "code",
   "execution_count": 56,
   "metadata": {
    "execution": {
     "iopub.execute_input": "2024-02-02T04:32:17.149641Z",
     "iopub.status.busy": "2024-02-02T04:32:17.148861Z",
     "iopub.status.idle": "2024-02-02T04:32:17.153572Z",
     "shell.execute_reply": "2024-02-02T04:32:17.152647Z",
     "shell.execute_reply.started": "2024-02-02T04:32:17.149613Z"
    }
   },
   "outputs": [
    {
     "name": "stdout",
     "output_type": "stream",
     "text": [
      "shape of training dataset(275101, 23)\n",
      "shape of testing dataset(117901, 23)\n"
     ]
    }
   ],
   "source": [
    "print(f\"shape of training dataset{X_train.shape}\")\n",
    "print(f\"shape of testing dataset{X_test.shape}\")"
   ]
  },
  {
   "cell_type": "code",
   "execution_count": 57,
   "metadata": {
    "execution": {
     "iopub.execute_input": "2024-02-02T04:32:17.155094Z",
     "iopub.status.busy": "2024-02-02T04:32:17.154807Z",
     "iopub.status.idle": "2024-02-02T04:32:17.181615Z",
     "shell.execute_reply": "2024-02-02T04:32:17.180671Z",
     "shell.execute_reply.started": "2024-02-02T04:32:17.155071Z"
    }
   },
   "outputs": [
    {
     "data": {
      "text/html": [
       "<div>\n",
       "<style scoped>\n",
       "    .dataframe tbody tr th:only-of-type {\n",
       "        vertical-align: middle;\n",
       "    }\n",
       "\n",
       "    .dataframe tbody tr th {\n",
       "        vertical-align: top;\n",
       "    }\n",
       "\n",
       "    .dataframe thead th {\n",
       "        text-align: right;\n",
       "    }\n",
       "</style>\n",
       "<table border=\"1\" class=\"dataframe\">\n",
       "  <thead>\n",
       "    <tr style=\"text-align: right;\">\n",
       "      <th></th>\n",
       "      <th>age</th>\n",
       "      <th>gender</th>\n",
       "      <th>education</th>\n",
       "      <th>marital_status</th>\n",
       "      <th>race</th>\n",
       "      <th>is_hispanic</th>\n",
       "      <th>employment_commitment</th>\n",
       "      <th>employment_stat</th>\n",
       "      <th>wage_per_hour</th>\n",
       "      <th>working_week_per_year</th>\n",
       "      <th>...</th>\n",
       "      <th>total_employed</th>\n",
       "      <th>household_summary</th>\n",
       "      <th>vet_benefit</th>\n",
       "      <th>tax_status</th>\n",
       "      <th>gains</th>\n",
       "      <th>losses</th>\n",
       "      <th>stocks_status</th>\n",
       "      <th>citizenship</th>\n",
       "      <th>mig_year</th>\n",
       "      <th>importance_of_record</th>\n",
       "    </tr>\n",
       "  </thead>\n",
       "  <tbody>\n",
       "    <tr>\n",
       "      <th>0</th>\n",
       "      <td>53</td>\n",
       "      <td>Male</td>\n",
       "      <td>Masters degree(MA MS MEng MEd MSW MBA)</td>\n",
       "      <td>Married-civilian spouse present</td>\n",
       "      <td>White</td>\n",
       "      <td>All other</td>\n",
       "      <td>Children or Armed Forces</td>\n",
       "      <td>0</td>\n",
       "      <td>0</td>\n",
       "      <td>52</td>\n",
       "      <td>...</td>\n",
       "      <td>5</td>\n",
       "      <td>Householder</td>\n",
       "      <td>2</td>\n",
       "      <td>Joint both under 65</td>\n",
       "      <td>0</td>\n",
       "      <td>0</td>\n",
       "      <td>0</td>\n",
       "      <td>Native</td>\n",
       "      <td>94</td>\n",
       "      <td>1339.416596</td>\n",
       "    </tr>\n",
       "    <tr>\n",
       "      <th>1</th>\n",
       "      <td>62</td>\n",
       "      <td>Male</td>\n",
       "      <td>High school graduate</td>\n",
       "      <td>Married-civilian spouse present</td>\n",
       "      <td>White</td>\n",
       "      <td>All other</td>\n",
       "      <td>Children or Armed Forces</td>\n",
       "      <td>0</td>\n",
       "      <td>0</td>\n",
       "      <td>35</td>\n",
       "      <td>...</td>\n",
       "      <td>6</td>\n",
       "      <td>Householder</td>\n",
       "      <td>2</td>\n",
       "      <td>Joint both under 65</td>\n",
       "      <td>0</td>\n",
       "      <td>0</td>\n",
       "      <td>0</td>\n",
       "      <td>Native</td>\n",
       "      <td>94</td>\n",
       "      <td>982.004858</td>\n",
       "    </tr>\n",
       "    <tr>\n",
       "      <th>2</th>\n",
       "      <td>25</td>\n",
       "      <td>Female</td>\n",
       "      <td>Associates degree-occup /vocational</td>\n",
       "      <td>Married-civilian spouse present</td>\n",
       "      <td>White</td>\n",
       "      <td>All other</td>\n",
       "      <td>Children or Armed Forces</td>\n",
       "      <td>0</td>\n",
       "      <td>0</td>\n",
       "      <td>52</td>\n",
       "      <td>...</td>\n",
       "      <td>6</td>\n",
       "      <td>Householder</td>\n",
       "      <td>2</td>\n",
       "      <td>Joint both under 65</td>\n",
       "      <td>7688</td>\n",
       "      <td>0</td>\n",
       "      <td>0</td>\n",
       "      <td>Native</td>\n",
       "      <td>94</td>\n",
       "      <td>1050.420000</td>\n",
       "    </tr>\n",
       "    <tr>\n",
       "      <th>3</th>\n",
       "      <td>53</td>\n",
       "      <td>Male</td>\n",
       "      <td>Some college but no degree</td>\n",
       "      <td>Married-civilian spouse present</td>\n",
       "      <td>White</td>\n",
       "      <td>All other</td>\n",
       "      <td>Children or Armed Forces</td>\n",
       "      <td>0</td>\n",
       "      <td>0</td>\n",
       "      <td>52</td>\n",
       "      <td>...</td>\n",
       "      <td>5</td>\n",
       "      <td>Householder</td>\n",
       "      <td>2</td>\n",
       "      <td>Joint both under 65</td>\n",
       "      <td>0</td>\n",
       "      <td>0</td>\n",
       "      <td>144</td>\n",
       "      <td>Native</td>\n",
       "      <td>95</td>\n",
       "      <td>639.469447</td>\n",
       "    </tr>\n",
       "    <tr>\n",
       "      <th>4</th>\n",
       "      <td>74</td>\n",
       "      <td>Male</td>\n",
       "      <td>Bachelors degree(BA AB BS)</td>\n",
       "      <td>Never married</td>\n",
       "      <td>White</td>\n",
       "      <td>All other</td>\n",
       "      <td>Full-time schedules</td>\n",
       "      <td>0</td>\n",
       "      <td>0</td>\n",
       "      <td>2</td>\n",
       "      <td>...</td>\n",
       "      <td>0</td>\n",
       "      <td>Householder</td>\n",
       "      <td>2</td>\n",
       "      <td>Single</td>\n",
       "      <td>25124</td>\n",
       "      <td>0</td>\n",
       "      <td>10571</td>\n",
       "      <td>Native</td>\n",
       "      <td>94</td>\n",
       "      <td>1162.892406</td>\n",
       "    </tr>\n",
       "  </tbody>\n",
       "</table>\n",
       "<p>5 rows × 23 columns</p>\n",
       "</div>"
      ],
      "text/plain": [
       "   age   gender                                education  \\\n",
       "0   53     Male   Masters degree(MA MS MEng MEd MSW MBA)   \n",
       "1   62     Male                     High school graduate   \n",
       "2   25   Female      Associates degree-occup /vocational   \n",
       "3   53     Male               Some college but no degree   \n",
       "4   74     Male               Bachelors degree(BA AB BS)   \n",
       "\n",
       "                     marital_status    race is_hispanic  \\\n",
       "0   Married-civilian spouse present   White   All other   \n",
       "1   Married-civilian spouse present   White   All other   \n",
       "2   Married-civilian spouse present   White   All other   \n",
       "3   Married-civilian spouse present   White   All other   \n",
       "4                     Never married   White   All other   \n",
       "\n",
       "       employment_commitment  employment_stat  wage_per_hour  \\\n",
       "0   Children or Armed Forces                0              0   \n",
       "1   Children or Armed Forces                0              0   \n",
       "2   Children or Armed Forces                0              0   \n",
       "3   Children or Armed Forces                0              0   \n",
       "4        Full-time schedules                0              0   \n",
       "\n",
       "   working_week_per_year  ...  total_employed household_summary  vet_benefit  \\\n",
       "0                     52  ...               5       Householder            2   \n",
       "1                     35  ...               6       Householder            2   \n",
       "2                     52  ...               6       Householder            2   \n",
       "3                     52  ...               5       Householder            2   \n",
       "4                      2  ...               0       Householder            2   \n",
       "\n",
       "             tax_status  gains  losses stocks_status  citizenship  mig_year  \\\n",
       "0   Joint both under 65      0       0             0       Native        94   \n",
       "1   Joint both under 65      0       0             0       Native        94   \n",
       "2   Joint both under 65   7688       0             0       Native        94   \n",
       "3   Joint both under 65      0       0           144       Native        95   \n",
       "4                Single  25124       0         10571       Native        94   \n",
       "\n",
       "   importance_of_record  \n",
       "0           1339.416596  \n",
       "1            982.004858  \n",
       "2           1050.420000  \n",
       "3            639.469447  \n",
       "4           1162.892406  \n",
       "\n",
       "[5 rows x 23 columns]"
      ]
     },
     "execution_count": 57,
     "metadata": {},
     "output_type": "execute_result"
    }
   ],
   "source": [
    "X_train.reset_index(drop=True,inplace=True)\n",
    "X_train.head()"
   ]
  },
  {
   "cell_type": "code",
   "execution_count": 58,
   "metadata": {
    "execution": {
     "iopub.execute_input": "2024-02-02T04:32:17.18394Z",
     "iopub.status.busy": "2024-02-02T04:32:17.182804Z",
     "iopub.status.idle": "2024-02-02T04:32:17.210024Z",
     "shell.execute_reply": "2024-02-02T04:32:17.208715Z",
     "shell.execute_reply.started": "2024-02-02T04:32:17.183915Z"
    }
   },
   "outputs": [
    {
     "data": {
      "text/html": [
       "<div>\n",
       "<style scoped>\n",
       "    .dataframe tbody tr th:only-of-type {\n",
       "        vertical-align: middle;\n",
       "    }\n",
       "\n",
       "    .dataframe tbody tr th {\n",
       "        vertical-align: top;\n",
       "    }\n",
       "\n",
       "    .dataframe thead th {\n",
       "        text-align: right;\n",
       "    }\n",
       "</style>\n",
       "<table border=\"1\" class=\"dataframe\">\n",
       "  <thead>\n",
       "    <tr style=\"text-align: right;\">\n",
       "      <th></th>\n",
       "      <th>age</th>\n",
       "      <th>gender</th>\n",
       "      <th>education</th>\n",
       "      <th>marital_status</th>\n",
       "      <th>race</th>\n",
       "      <th>is_hispanic</th>\n",
       "      <th>employment_commitment</th>\n",
       "      <th>employment_stat</th>\n",
       "      <th>wage_per_hour</th>\n",
       "      <th>working_week_per_year</th>\n",
       "      <th>...</th>\n",
       "      <th>total_employed</th>\n",
       "      <th>household_summary</th>\n",
       "      <th>vet_benefit</th>\n",
       "      <th>tax_status</th>\n",
       "      <th>gains</th>\n",
       "      <th>losses</th>\n",
       "      <th>stocks_status</th>\n",
       "      <th>citizenship</th>\n",
       "      <th>mig_year</th>\n",
       "      <th>importance_of_record</th>\n",
       "    </tr>\n",
       "  </thead>\n",
       "  <tbody>\n",
       "    <tr>\n",
       "      <th>0</th>\n",
       "      <td>46</td>\n",
       "      <td>Male</td>\n",
       "      <td>Masters degree(MA MS MEng MEd MSW MBA)</td>\n",
       "      <td>Married-civilian spouse present</td>\n",
       "      <td>White</td>\n",
       "      <td>All other</td>\n",
       "      <td>Full-time schedules</td>\n",
       "      <td>0</td>\n",
       "      <td>0</td>\n",
       "      <td>52</td>\n",
       "      <td>...</td>\n",
       "      <td>5</td>\n",
       "      <td>Householder</td>\n",
       "      <td>2</td>\n",
       "      <td>Joint both under 65</td>\n",
       "      <td>7688</td>\n",
       "      <td>0</td>\n",
       "      <td>250</td>\n",
       "      <td>Native</td>\n",
       "      <td>95</td>\n",
       "      <td>1072.925970</td>\n",
       "    </tr>\n",
       "    <tr>\n",
       "      <th>1</th>\n",
       "      <td>39</td>\n",
       "      <td>Male</td>\n",
       "      <td>Bachelors degree(BA AB BS)</td>\n",
       "      <td>Married-civilian spouse present</td>\n",
       "      <td>White</td>\n",
       "      <td>All other</td>\n",
       "      <td>Children or Armed Forces</td>\n",
       "      <td>0</td>\n",
       "      <td>0</td>\n",
       "      <td>52</td>\n",
       "      <td>...</td>\n",
       "      <td>3</td>\n",
       "      <td>Householder</td>\n",
       "      <td>2</td>\n",
       "      <td>Joint both under 65</td>\n",
       "      <td>0</td>\n",
       "      <td>0</td>\n",
       "      <td>0</td>\n",
       "      <td>Native</td>\n",
       "      <td>95</td>\n",
       "      <td>796.628444</td>\n",
       "    </tr>\n",
       "    <tr>\n",
       "      <th>2</th>\n",
       "      <td>38</td>\n",
       "      <td>Male</td>\n",
       "      <td>Bachelors degree(BA AB BS)</td>\n",
       "      <td>Married-civilian spouse present</td>\n",
       "      <td>White</td>\n",
       "      <td>All other</td>\n",
       "      <td>Children or Armed Forces</td>\n",
       "      <td>0</td>\n",
       "      <td>0</td>\n",
       "      <td>52</td>\n",
       "      <td>...</td>\n",
       "      <td>6</td>\n",
       "      <td>Spouse of householder</td>\n",
       "      <td>2</td>\n",
       "      <td>Joint both under 65</td>\n",
       "      <td>0</td>\n",
       "      <td>0</td>\n",
       "      <td>50</td>\n",
       "      <td>Native</td>\n",
       "      <td>94</td>\n",
       "      <td>1200.051574</td>\n",
       "    </tr>\n",
       "    <tr>\n",
       "      <th>3</th>\n",
       "      <td>56</td>\n",
       "      <td>Female</td>\n",
       "      <td>Some college but no degree</td>\n",
       "      <td>Married-spouse absent</td>\n",
       "      <td>White</td>\n",
       "      <td>All other</td>\n",
       "      <td>Children or Armed Forces</td>\n",
       "      <td>0</td>\n",
       "      <td>0</td>\n",
       "      <td>52</td>\n",
       "      <td>...</td>\n",
       "      <td>1</td>\n",
       "      <td>Householder</td>\n",
       "      <td>2</td>\n",
       "      <td>Single</td>\n",
       "      <td>27828</td>\n",
       "      <td>0</td>\n",
       "      <td>0</td>\n",
       "      <td>Native</td>\n",
       "      <td>94</td>\n",
       "      <td>387.980000</td>\n",
       "    </tr>\n",
       "    <tr>\n",
       "      <th>4</th>\n",
       "      <td>7</td>\n",
       "      <td>Female</td>\n",
       "      <td>Children</td>\n",
       "      <td>Never married</td>\n",
       "      <td>Other</td>\n",
       "      <td>All other</td>\n",
       "      <td>Children or Armed Forces</td>\n",
       "      <td>0</td>\n",
       "      <td>0</td>\n",
       "      <td>0</td>\n",
       "      <td>...</td>\n",
       "      <td>0</td>\n",
       "      <td>Child under 18 never married</td>\n",
       "      <td>0</td>\n",
       "      <td>Nonfiler</td>\n",
       "      <td>0</td>\n",
       "      <td>0</td>\n",
       "      <td>0</td>\n",
       "      <td>Native</td>\n",
       "      <td>95</td>\n",
       "      <td>1550.360000</td>\n",
       "    </tr>\n",
       "  </tbody>\n",
       "</table>\n",
       "<p>5 rows × 23 columns</p>\n",
       "</div>"
      ],
      "text/plain": [
       "   age   gender                                education  \\\n",
       "0   46     Male   Masters degree(MA MS MEng MEd MSW MBA)   \n",
       "1   39     Male               Bachelors degree(BA AB BS)   \n",
       "2   38     Male               Bachelors degree(BA AB BS)   \n",
       "3   56   Female               Some college but no degree   \n",
       "4    7   Female                                 Children   \n",
       "\n",
       "                     marital_status    race is_hispanic  \\\n",
       "0   Married-civilian spouse present   White   All other   \n",
       "1   Married-civilian spouse present   White   All other   \n",
       "2   Married-civilian spouse present   White   All other   \n",
       "3             Married-spouse absent   White   All other   \n",
       "4                     Never married   Other   All other   \n",
       "\n",
       "       employment_commitment  employment_stat  wage_per_hour  \\\n",
       "0        Full-time schedules                0              0   \n",
       "1   Children or Armed Forces                0              0   \n",
       "2   Children or Armed Forces                0              0   \n",
       "3   Children or Armed Forces                0              0   \n",
       "4   Children or Armed Forces                0              0   \n",
       "\n",
       "   working_week_per_year  ...  total_employed              household_summary  \\\n",
       "0                     52  ...               5                    Householder   \n",
       "1                     52  ...               3                    Householder   \n",
       "2                     52  ...               6          Spouse of householder   \n",
       "3                     52  ...               1                    Householder   \n",
       "4                      0  ...               0   Child under 18 never married   \n",
       "\n",
       "   vet_benefit            tax_status  gains  losses stocks_status  \\\n",
       "0            2   Joint both under 65   7688       0           250   \n",
       "1            2   Joint both under 65      0       0             0   \n",
       "2            2   Joint both under 65      0       0            50   \n",
       "3            2                Single  27828       0             0   \n",
       "4            0              Nonfiler      0       0             0   \n",
       "\n",
       "   citizenship  mig_year  importance_of_record  \n",
       "0       Native        95           1072.925970  \n",
       "1       Native        95            796.628444  \n",
       "2       Native        94           1200.051574  \n",
       "3       Native        94            387.980000  \n",
       "4       Native        95           1550.360000  \n",
       "\n",
       "[5 rows x 23 columns]"
      ]
     },
     "execution_count": 58,
     "metadata": {},
     "output_type": "execute_result"
    }
   ],
   "source": [
    "X_test.reset_index(drop=True,inplace=True)\n",
    "X_test.head()"
   ]
  },
  {
   "cell_type": "code",
   "execution_count": 59,
   "metadata": {
    "execution": {
     "iopub.execute_input": "2024-02-02T04:32:17.211226Z",
     "iopub.status.busy": "2024-02-02T04:32:17.210969Z",
     "iopub.status.idle": "2024-02-02T04:32:17.306898Z",
     "shell.execute_reply": "2024-02-02T04:32:17.305543Z",
     "shell.execute_reply.started": "2024-02-02T04:32:17.211205Z"
    }
   },
   "outputs": [
    {
     "name": "stdout",
     "output_type": "stream",
     "text": [
      "<class 'pandas.core.frame.DataFrame'>\n",
      "RangeIndex: 275101 entries, 0 to 275100\n",
      "Data columns (total 23 columns):\n",
      " #   Column                 Non-Null Count   Dtype  \n",
      "---  ------                 --------------   -----  \n",
      " 0   age                    275101 non-null  int64  \n",
      " 1   gender                 275101 non-null  object \n",
      " 2   education              275101 non-null  object \n",
      " 3   marital_status         275101 non-null  object \n",
      " 4   race                   275101 non-null  object \n",
      " 5   is_hispanic            275101 non-null  object \n",
      " 6   employment_commitment  275101 non-null  object \n",
      " 7   employment_stat        275101 non-null  int64  \n",
      " 8   wage_per_hour          275101 non-null  int64  \n",
      " 9   working_week_per_year  275101 non-null  int64  \n",
      " 10  industry_code          275101 non-null  int64  \n",
      " 11  industry_code_main     275101 non-null  object \n",
      " 12  occupation_code        275101 non-null  int64  \n",
      " 13  total_employed         275101 non-null  int64  \n",
      " 14  household_summary      275101 non-null  object \n",
      " 15  vet_benefit            275101 non-null  int64  \n",
      " 16  tax_status             275101 non-null  object \n",
      " 17  gains                  275101 non-null  int64  \n",
      " 18  losses                 275101 non-null  int64  \n",
      " 19  stocks_status          275101 non-null  int64  \n",
      " 20  citizenship            275101 non-null  object \n",
      " 21  mig_year               275101 non-null  int64  \n",
      " 22  importance_of_record   275101 non-null  float64\n",
      "dtypes: float64(1), int64(12), object(10)\n",
      "memory usage: 48.3+ MB\n"
     ]
    }
   ],
   "source": [
    "X_train.info()"
   ]
  },
  {
   "cell_type": "markdown",
   "metadata": {},
   "source": [
    "\n",
    "# <span style=\"font-family:cursive;text-align:center\">Feature Engineering</span>"
   ]
  },
  {
   "cell_type": "markdown",
   "metadata": {},
   "source": [
    "### Encoding Target variables"
   ]
  },
  {
   "cell_type": "code",
   "execution_count": 60,
   "metadata": {
    "execution": {
     "iopub.execute_input": "2024-02-02T04:32:17.308438Z",
     "iopub.status.busy": "2024-02-02T04:32:17.308178Z",
     "iopub.status.idle": "2024-02-02T04:32:17.493505Z",
     "shell.execute_reply": "2024-02-02T04:32:17.492356Z",
     "shell.execute_reply.started": "2024-02-02T04:32:17.308416Z"
    }
   },
   "outputs": [],
   "source": [
    "y_train_encoded=y_train.replace({'Below limit':0,'Above limit':1})\n",
    "y_test_encoded=y_test.replace({'Below limit':0,'Above limit':1})"
   ]
  },
  {
   "cell_type": "markdown",
   "metadata": {},
   "source": [
    "* ## Feature Selection on Categorical Columns"
   ]
  },
  {
   "cell_type": "code",
   "execution_count": 61,
   "metadata": {
    "execution": {
     "iopub.execute_input": "2024-02-02T04:32:17.495439Z",
     "iopub.status.busy": "2024-02-02T04:32:17.494936Z",
     "iopub.status.idle": "2024-02-02T04:32:18.427495Z",
     "shell.execute_reply": "2024-02-02T04:32:18.426002Z",
     "shell.execute_reply.started": "2024-02-02T04:32:17.495408Z"
    }
   },
   "outputs": [],
   "source": [
    "# function which applies oridinal encoding to the categorcial columns before performing fetaure selection\n",
    "def feature_ordinal_encoding(X_train,X_test):\n",
    "    X_train_cat=X_train.select_dtypes(include=object)\n",
    "    X_test_cat=X_test.select_dtypes(include=object)\n",
    "    oe=OrdinalEncoder()\n",
    "    X_train_oe=oe.fit_transform(X_train_cat)\n",
    "    X_test_oe=oe.fit_transform(X_test_cat)\n",
    "    X_train_oe=pd.DataFrame(X_train_oe,columns=X_train_cat.columns)\n",
    "    X_test_oe =pd.DataFrame(X_test_oe,columns=X_test_cat.columns)\n",
    "    return X_train_oe,X_test_oe\n",
    "\n",
    "# function performs feature selection on ordinal encoded categororical columns\n",
    "def feature_selection(X,y,score_func):\n",
    "    feat=SelectKBest(score_func=score_func,k=5)\n",
    "    feat.fit(X,y)\n",
    "    feature_columns=feat.get_feature_names_out(feat.feature_names_in_)\n",
    "    return feature_columns\n",
    "X_train_oe,X_test_oe=feature_ordinal_encoding(X_train,X_test)"
   ]
  },
  {
   "cell_type": "code",
   "execution_count": 62,
   "metadata": {
    "execution": {
     "iopub.execute_input": "2024-02-02T04:32:18.429408Z",
     "iopub.status.busy": "2024-02-02T04:32:18.428972Z",
     "iopub.status.idle": "2024-02-02T04:32:18.53302Z",
     "shell.execute_reply": "2024-02-02T04:32:18.53202Z",
     "shell.execute_reply.started": "2024-02-02T04:32:18.429349Z"
    }
   },
   "outputs": [
    {
     "name": "stdout",
     "output_type": "stream",
     "text": [
      "Categorical Features selected-Training data: ['gender' 'education' 'marital_status' 'is_hispanic' 'tax_status']\n",
      "Categorical Features selected-Testing data: ['gender' 'education' 'marital_status' 'is_hispanic' 'tax_status']\n"
     ]
    }
   ],
   "source": [
    "print(\"Categorical Features selected-Training data:\",feature_selection(X_train_oe,y_train_encoded,chi2))\n",
    "print(\"Categorical Features selected-Testing data:\",feature_selection(X_test_oe,y_test_encoded,chi2))"
   ]
  },
  {
   "cell_type": "markdown",
   "metadata": {},
   "source": [
    "### Observations:\n",
    "--> ['gender', 'education', 'marital_status', 'is_hispanic','tax_status'] these are the categorical features selected from chisquare test"
   ]
  },
  {
   "cell_type": "markdown",
   "metadata": {},
   "source": [
    "* ##  Feature Selection on Numerical Features"
   ]
  },
  {
   "cell_type": "code",
   "execution_count": 63,
   "metadata": {
    "execution": {
     "iopub.execute_input": "2024-02-02T04:32:18.536903Z",
     "iopub.status.busy": "2024-02-02T04:32:18.536046Z",
     "iopub.status.idle": "2024-02-02T04:32:18.639891Z",
     "shell.execute_reply": "2024-02-02T04:32:18.639188Z",
     "shell.execute_reply.started": "2024-02-02T04:32:18.536874Z"
    }
   },
   "outputs": [
    {
     "name": "stdout",
     "output_type": "stream",
     "text": [
      "Numerical Features selected-Training data: ['age' 'working_week_per_year' 'industry_code' 'total_employed'\n",
      " 'vet_benefit']\n",
      "Numerical Features selected-Testing data: ['age' 'working_week_per_year' 'industry_code' 'total_employed'\n",
      " 'vet_benefit']\n"
     ]
    }
   ],
   "source": [
    "X_train_num=X_train.select_dtypes(exclude=object)\n",
    "X_test_num=X_test.select_dtypes(exclude=object)\n",
    "print(\"Numerical Features selected-Training data:\",feature_selection(X_train_num,y_train_encoded,f_classif))\n",
    "print(\"Numerical Features selected-Testing data:\",feature_selection(X_test_num,y_test_encoded,f_classif))"
   ]
  },
  {
   "cell_type": "markdown",
   "metadata": {},
   "source": [
    "<div class=\"alert alert-info\" style=\"font-size:14px; font-family:verdana; line-height: 1.7em;\"> \n",
    "### Observations:\n",
    "--> ['age' 'working_week_per_year' 'industry_code' 'total_employed'\n",
    " 'vet_benefit'] these are the categorical features selected from chisquare test"
   ]
  },
  {
   "cell_type": "markdown",
   "metadata": {},
   "source": [
    "## Final Observations from feature Selections:\n",
    "1.['gender','education', 'marital_status', 'is_hispanic','tax_status','age' 'working_week_per_year']\n",
    "these above columns make sense in building an affective model . \n",
    "So going forward choosing the above features for further processing"
   ]
  },
  {
   "cell_type": "code",
   "execution_count": 64,
   "metadata": {
    "execution": {
     "iopub.execute_input": "2024-02-02T04:32:18.64125Z",
     "iopub.status.busy": "2024-02-02T04:32:18.640941Z",
     "iopub.status.idle": "2024-02-02T04:32:18.677952Z",
     "shell.execute_reply": "2024-02-02T04:32:18.677088Z",
     "shell.execute_reply.started": "2024-02-02T04:32:18.641223Z"
    }
   },
   "outputs": [
    {
     "name": "stdout",
     "output_type": "stream",
     "text": [
      "Training data shape (275101, 9)\n",
      "Testing data shape (117901, 9)\n"
     ]
    }
   ],
   "source": [
    "X_train=X_train[['gender','education', 'marital_status', 'is_hispanic',\n",
    "                 'tax_status','age', 'working_week_per_year','total_employed','vet_benefit']]\n",
    "X_test=X_test[['gender','education', 'marital_status', 'is_hispanic',\n",
    "                 'tax_status','age', 'working_week_per_year','total_employed','vet_benefit']]\n",
    "print(\"Training data shape\",X_train.shape)\n",
    "print(\"Testing data shape\",X_test.shape)"
   ]
  },
  {
   "cell_type": "code",
   "execution_count": 65,
   "metadata": {
    "execution": {
     "iopub.execute_input": "2024-02-02T04:32:18.679205Z",
     "iopub.status.busy": "2024-02-02T04:32:18.678953Z",
     "iopub.status.idle": "2024-02-02T04:32:18.691091Z",
     "shell.execute_reply": "2024-02-02T04:32:18.690153Z",
     "shell.execute_reply.started": "2024-02-02T04:32:18.679184Z"
    }
   },
   "outputs": [
    {
     "data": {
      "text/html": [
       "<div>\n",
       "<style scoped>\n",
       "    .dataframe tbody tr th:only-of-type {\n",
       "        vertical-align: middle;\n",
       "    }\n",
       "\n",
       "    .dataframe tbody tr th {\n",
       "        vertical-align: top;\n",
       "    }\n",
       "\n",
       "    .dataframe thead th {\n",
       "        text-align: right;\n",
       "    }\n",
       "</style>\n",
       "<table border=\"1\" class=\"dataframe\">\n",
       "  <thead>\n",
       "    <tr style=\"text-align: right;\">\n",
       "      <th></th>\n",
       "      <th>gender</th>\n",
       "      <th>education</th>\n",
       "      <th>marital_status</th>\n",
       "      <th>is_hispanic</th>\n",
       "      <th>tax_status</th>\n",
       "      <th>age</th>\n",
       "      <th>working_week_per_year</th>\n",
       "      <th>total_employed</th>\n",
       "      <th>vet_benefit</th>\n",
       "    </tr>\n",
       "  </thead>\n",
       "  <tbody>\n",
       "    <tr>\n",
       "      <th>0</th>\n",
       "      <td>Male</td>\n",
       "      <td>Masters degree(MA MS MEng MEd MSW MBA)</td>\n",
       "      <td>Married-civilian spouse present</td>\n",
       "      <td>All other</td>\n",
       "      <td>Joint both under 65</td>\n",
       "      <td>53</td>\n",
       "      <td>52</td>\n",
       "      <td>5</td>\n",
       "      <td>2</td>\n",
       "    </tr>\n",
       "    <tr>\n",
       "      <th>1</th>\n",
       "      <td>Male</td>\n",
       "      <td>High school graduate</td>\n",
       "      <td>Married-civilian spouse present</td>\n",
       "      <td>All other</td>\n",
       "      <td>Joint both under 65</td>\n",
       "      <td>62</td>\n",
       "      <td>35</td>\n",
       "      <td>6</td>\n",
       "      <td>2</td>\n",
       "    </tr>\n",
       "    <tr>\n",
       "      <th>2</th>\n",
       "      <td>Female</td>\n",
       "      <td>Associates degree-occup /vocational</td>\n",
       "      <td>Married-civilian spouse present</td>\n",
       "      <td>All other</td>\n",
       "      <td>Joint both under 65</td>\n",
       "      <td>25</td>\n",
       "      <td>52</td>\n",
       "      <td>6</td>\n",
       "      <td>2</td>\n",
       "    </tr>\n",
       "    <tr>\n",
       "      <th>3</th>\n",
       "      <td>Male</td>\n",
       "      <td>Some college but no degree</td>\n",
       "      <td>Married-civilian spouse present</td>\n",
       "      <td>All other</td>\n",
       "      <td>Joint both under 65</td>\n",
       "      <td>53</td>\n",
       "      <td>52</td>\n",
       "      <td>5</td>\n",
       "      <td>2</td>\n",
       "    </tr>\n",
       "    <tr>\n",
       "      <th>4</th>\n",
       "      <td>Male</td>\n",
       "      <td>Bachelors degree(BA AB BS)</td>\n",
       "      <td>Never married</td>\n",
       "      <td>All other</td>\n",
       "      <td>Single</td>\n",
       "      <td>74</td>\n",
       "      <td>2</td>\n",
       "      <td>0</td>\n",
       "      <td>2</td>\n",
       "    </tr>\n",
       "  </tbody>\n",
       "</table>\n",
       "</div>"
      ],
      "text/plain": [
       "    gender                                education  \\\n",
       "0     Male   Masters degree(MA MS MEng MEd MSW MBA)   \n",
       "1     Male                     High school graduate   \n",
       "2   Female      Associates degree-occup /vocational   \n",
       "3     Male               Some college but no degree   \n",
       "4     Male               Bachelors degree(BA AB BS)   \n",
       "\n",
       "                     marital_status is_hispanic            tax_status  age  \\\n",
       "0   Married-civilian spouse present   All other   Joint both under 65   53   \n",
       "1   Married-civilian spouse present   All other   Joint both under 65   62   \n",
       "2   Married-civilian spouse present   All other   Joint both under 65   25   \n",
       "3   Married-civilian spouse present   All other   Joint both under 65   53   \n",
       "4                     Never married   All other                Single   74   \n",
       "\n",
       "   working_week_per_year  total_employed  vet_benefit  \n",
       "0                     52               5            2  \n",
       "1                     35               6            2  \n",
       "2                     52               6            2  \n",
       "3                     52               5            2  \n",
       "4                      2               0            2  "
      ]
     },
     "execution_count": 65,
     "metadata": {},
     "output_type": "execute_result"
    }
   ],
   "source": [
    "X_train.head()"
   ]
  },
  {
   "cell_type": "code",
   "execution_count": 66,
   "metadata": {
    "execution": {
     "iopub.execute_input": "2024-02-02T04:32:18.692782Z",
     "iopub.status.busy": "2024-02-02T04:32:18.69243Z",
     "iopub.status.idle": "2024-02-02T04:32:18.7031Z",
     "shell.execute_reply": "2024-02-02T04:32:18.702238Z",
     "shell.execute_reply.started": "2024-02-02T04:32:18.69276Z"
    }
   },
   "outputs": [
    {
     "data": {
      "text/plain": [
       "249916    Above limit\n",
       "297552    Above limit\n",
       "115559    Below limit\n",
       "359868    Above limit\n",
       "386833    Above limit\n",
       "Name: income_above_limit, dtype: object"
      ]
     },
     "execution_count": 66,
     "metadata": {},
     "output_type": "execute_result"
    }
   ],
   "source": [
    "y_train.head()"
   ]
  },
  {
   "cell_type": "markdown",
   "metadata": {},
   "source": [
    "### Encoding"
   ]
  },
  {
   "cell_type": "markdown",
   "metadata": {},
   "source": [
    "The correct approach to performing data preparation with a train-test split evaluation is to fit the data preparation on the training set, then apply the transform to the train and test sets. This requires that we first split the data into train and test sets. We can then define the scaling, encoding methods and call the fit() function on the training set, then apply the transform() function on the train and test sets to create a normalized version of each dataset.\n",
    "    "
   ]
  },
  {
   "cell_type": "markdown",
   "metadata": {},
   "source": [
    "### Encoding Features"
   ]
  },
  {
   "cell_type": "code",
   "execution_count": 67,
   "metadata": {
    "execution": {
     "iopub.execute_input": "2024-02-02T04:32:18.70484Z",
     "iopub.status.busy": "2024-02-02T04:32:18.704398Z",
     "iopub.status.idle": "2024-02-02T04:32:18.716697Z",
     "shell.execute_reply": "2024-02-02T04:32:18.715829Z",
     "shell.execute_reply.started": "2024-02-02T04:32:18.704812Z"
    }
   },
   "outputs": [
    {
     "data": {
      "text/plain": [
       "Index(['age', 'working_week_per_year', 'total_employed', 'vet_benefit'], dtype='object')"
      ]
     },
     "execution_count": 67,
     "metadata": {},
     "output_type": "execute_result"
    }
   ],
   "source": [
    "numerical_features=X_train.select_dtypes(exclude=object)\n",
    "numerical_features.columns"
   ]
  },
  {
   "cell_type": "code",
   "execution_count": 68,
   "metadata": {
    "execution": {
     "iopub.execute_input": "2024-02-02T04:32:18.718267Z",
     "iopub.status.busy": "2024-02-02T04:32:18.718014Z",
     "iopub.status.idle": "2024-02-02T04:32:18.756643Z",
     "shell.execute_reply": "2024-02-02T04:32:18.75572Z",
     "shell.execute_reply.started": "2024-02-02T04:32:18.718246Z"
    }
   },
   "outputs": [
    {
     "data": {
      "text/plain": [
       "Index(['gender', 'education', 'marital_status', 'is_hispanic', 'tax_status'], dtype='object')"
      ]
     },
     "execution_count": 68,
     "metadata": {},
     "output_type": "execute_result"
    }
   ],
   "source": [
    "categorical_features=X_train.select_dtypes(include=object)\n",
    "categorical_features.columns"
   ]
  },
  {
   "cell_type": "code",
   "execution_count": 70,
   "metadata": {
    "execution": {
     "iopub.execute_input": "2024-02-02T04:32:18.758111Z",
     "iopub.status.busy": "2024-02-02T04:32:18.757819Z",
     "iopub.status.idle": "2024-02-02T04:32:19.203932Z",
     "shell.execute_reply": "2024-02-02T04:32:19.202894Z",
     "shell.execute_reply.started": "2024-02-02T04:32:18.758084Z"
    }
   },
   "outputs": [
    {
     "data": {
      "text/plain": [
       "(275101, 46)"
      ]
     },
     "execution_count": 70,
     "metadata": {},
     "output_type": "execute_result"
    }
   ],
   "source": [
    "cat_columns=['gender', 'education', 'marital_status', 'is_hispanic', 'tax_status']\n",
    "## OHe encoder\n",
    "encoder=OneHotEncoder(sparse=False,handle_unknown='ignore')\n",
    "X_train_encoded=encoder.fit_transform(X_train[cat_columns])\n",
    "X_train_encoded=pd.DataFrame(X_train_encoded,columns=encoder.get_feature_names_out(cat_columns))\n",
    "X_train_encoded=pd.concat([X_train[numerical_features.columns],X_train_encoded],axis=1)\n",
    "X_train_encoded.shape"
   ]
  },
  {
   "cell_type": "code",
   "execution_count": 71,
   "metadata": {
    "execution": {
     "iopub.execute_input": "2024-02-02T04:32:19.206408Z",
     "iopub.status.busy": "2024-02-02T04:32:19.205784Z",
     "iopub.status.idle": "2024-02-02T04:32:19.367395Z",
     "shell.execute_reply": "2024-02-02T04:32:19.36646Z",
     "shell.execute_reply.started": "2024-02-02T04:32:19.206362Z"
    }
   },
   "outputs": [
    {
     "data": {
      "text/plain": [
       "(117901, 46)"
      ]
     },
     "execution_count": 71,
     "metadata": {},
     "output_type": "execute_result"
    }
   ],
   "source": [
    "X_test_encoded=encoder.transform(X_test[cat_columns])\n",
    "X_test_encoded=pd.DataFrame(X_test_encoded,columns=encoder.get_feature_names_out(cat_columns))\n",
    "X_test_encoded=pd.concat([X_test[numerical_features.columns],X_test_encoded],axis=1)\n",
    "X_test_encoded.shape"
   ]
  },
  {
   "cell_type": "code",
   "execution_count": 72,
   "metadata": {
    "execution": {
     "iopub.execute_input": "2024-02-02T04:32:19.369326Z",
     "iopub.status.busy": "2024-02-02T04:32:19.368791Z",
     "iopub.status.idle": "2024-02-02T04:32:19.407335Z",
     "shell.execute_reply": "2024-02-02T04:32:19.406356Z",
     "shell.execute_reply.started": "2024-02-02T04:32:19.36929Z"
    }
   },
   "outputs": [
    {
     "data": {
      "text/html": [
       "<div>\n",
       "<style scoped>\n",
       "    .dataframe tbody tr th:only-of-type {\n",
       "        vertical-align: middle;\n",
       "    }\n",
       "\n",
       "    .dataframe tbody tr th {\n",
       "        vertical-align: top;\n",
       "    }\n",
       "\n",
       "    .dataframe thead th {\n",
       "        text-align: right;\n",
       "    }\n",
       "</style>\n",
       "<table border=\"1\" class=\"dataframe\">\n",
       "  <thead>\n",
       "    <tr style=\"text-align: right;\">\n",
       "      <th></th>\n",
       "      <th>age</th>\n",
       "      <th>working_week_per_year</th>\n",
       "      <th>total_employed</th>\n",
       "      <th>vet_benefit</th>\n",
       "      <th>gender_ Female</th>\n",
       "      <th>gender_ Male</th>\n",
       "      <th>education_ 10th grade</th>\n",
       "      <th>education_ 11th grade</th>\n",
       "      <th>education_ 12th grade no diploma</th>\n",
       "      <th>education_ 1st 2nd 3rd or 4th grade</th>\n",
       "      <th>...</th>\n",
       "      <th>is_hispanic_ Mexican-American</th>\n",
       "      <th>is_hispanic_ NA</th>\n",
       "      <th>is_hispanic_ Other Spanish</th>\n",
       "      <th>is_hispanic_ Puerto Rican</th>\n",
       "      <th>tax_status_ Head of household</th>\n",
       "      <th>tax_status_ Joint both 65+</th>\n",
       "      <th>tax_status_ Joint both under 65</th>\n",
       "      <th>tax_status_ Joint one under 65 &amp; one 65+</th>\n",
       "      <th>tax_status_ Nonfiler</th>\n",
       "      <th>tax_status_ Single</th>\n",
       "    </tr>\n",
       "  </thead>\n",
       "  <tbody>\n",
       "    <tr>\n",
       "      <th>0</th>\n",
       "      <td>46</td>\n",
       "      <td>52</td>\n",
       "      <td>5</td>\n",
       "      <td>2</td>\n",
       "      <td>0.0</td>\n",
       "      <td>1.0</td>\n",
       "      <td>0.0</td>\n",
       "      <td>0.0</td>\n",
       "      <td>0.0</td>\n",
       "      <td>0.0</td>\n",
       "      <td>...</td>\n",
       "      <td>0.0</td>\n",
       "      <td>0.0</td>\n",
       "      <td>0.0</td>\n",
       "      <td>0.0</td>\n",
       "      <td>0.0</td>\n",
       "      <td>0.0</td>\n",
       "      <td>1.0</td>\n",
       "      <td>0.0</td>\n",
       "      <td>0.0</td>\n",
       "      <td>0.0</td>\n",
       "    </tr>\n",
       "    <tr>\n",
       "      <th>1</th>\n",
       "      <td>39</td>\n",
       "      <td>52</td>\n",
       "      <td>3</td>\n",
       "      <td>2</td>\n",
       "      <td>0.0</td>\n",
       "      <td>1.0</td>\n",
       "      <td>0.0</td>\n",
       "      <td>0.0</td>\n",
       "      <td>0.0</td>\n",
       "      <td>0.0</td>\n",
       "      <td>...</td>\n",
       "      <td>0.0</td>\n",
       "      <td>0.0</td>\n",
       "      <td>0.0</td>\n",
       "      <td>0.0</td>\n",
       "      <td>0.0</td>\n",
       "      <td>0.0</td>\n",
       "      <td>1.0</td>\n",
       "      <td>0.0</td>\n",
       "      <td>0.0</td>\n",
       "      <td>0.0</td>\n",
       "    </tr>\n",
       "    <tr>\n",
       "      <th>2</th>\n",
       "      <td>38</td>\n",
       "      <td>52</td>\n",
       "      <td>6</td>\n",
       "      <td>2</td>\n",
       "      <td>0.0</td>\n",
       "      <td>1.0</td>\n",
       "      <td>0.0</td>\n",
       "      <td>0.0</td>\n",
       "      <td>0.0</td>\n",
       "      <td>0.0</td>\n",
       "      <td>...</td>\n",
       "      <td>0.0</td>\n",
       "      <td>0.0</td>\n",
       "      <td>0.0</td>\n",
       "      <td>0.0</td>\n",
       "      <td>0.0</td>\n",
       "      <td>0.0</td>\n",
       "      <td>1.0</td>\n",
       "      <td>0.0</td>\n",
       "      <td>0.0</td>\n",
       "      <td>0.0</td>\n",
       "    </tr>\n",
       "    <tr>\n",
       "      <th>3</th>\n",
       "      <td>56</td>\n",
       "      <td>52</td>\n",
       "      <td>1</td>\n",
       "      <td>2</td>\n",
       "      <td>1.0</td>\n",
       "      <td>0.0</td>\n",
       "      <td>0.0</td>\n",
       "      <td>0.0</td>\n",
       "      <td>0.0</td>\n",
       "      <td>0.0</td>\n",
       "      <td>...</td>\n",
       "      <td>0.0</td>\n",
       "      <td>0.0</td>\n",
       "      <td>0.0</td>\n",
       "      <td>0.0</td>\n",
       "      <td>0.0</td>\n",
       "      <td>0.0</td>\n",
       "      <td>0.0</td>\n",
       "      <td>0.0</td>\n",
       "      <td>0.0</td>\n",
       "      <td>1.0</td>\n",
       "    </tr>\n",
       "    <tr>\n",
       "      <th>4</th>\n",
       "      <td>7</td>\n",
       "      <td>0</td>\n",
       "      <td>0</td>\n",
       "      <td>0</td>\n",
       "      <td>1.0</td>\n",
       "      <td>0.0</td>\n",
       "      <td>0.0</td>\n",
       "      <td>0.0</td>\n",
       "      <td>0.0</td>\n",
       "      <td>0.0</td>\n",
       "      <td>...</td>\n",
       "      <td>0.0</td>\n",
       "      <td>0.0</td>\n",
       "      <td>0.0</td>\n",
       "      <td>0.0</td>\n",
       "      <td>0.0</td>\n",
       "      <td>0.0</td>\n",
       "      <td>0.0</td>\n",
       "      <td>0.0</td>\n",
       "      <td>1.0</td>\n",
       "      <td>0.0</td>\n",
       "    </tr>\n",
       "    <tr>\n",
       "      <th>...</th>\n",
       "      <td>...</td>\n",
       "      <td>...</td>\n",
       "      <td>...</td>\n",
       "      <td>...</td>\n",
       "      <td>...</td>\n",
       "      <td>...</td>\n",
       "      <td>...</td>\n",
       "      <td>...</td>\n",
       "      <td>...</td>\n",
       "      <td>...</td>\n",
       "      <td>...</td>\n",
       "      <td>...</td>\n",
       "      <td>...</td>\n",
       "      <td>...</td>\n",
       "      <td>...</td>\n",
       "      <td>...</td>\n",
       "      <td>...</td>\n",
       "      <td>...</td>\n",
       "      <td>...</td>\n",
       "      <td>...</td>\n",
       "      <td>...</td>\n",
       "    </tr>\n",
       "    <tr>\n",
       "      <th>117896</th>\n",
       "      <td>13</td>\n",
       "      <td>0</td>\n",
       "      <td>0</td>\n",
       "      <td>0</td>\n",
       "      <td>1.0</td>\n",
       "      <td>0.0</td>\n",
       "      <td>0.0</td>\n",
       "      <td>0.0</td>\n",
       "      <td>0.0</td>\n",
       "      <td>0.0</td>\n",
       "      <td>...</td>\n",
       "      <td>0.0</td>\n",
       "      <td>0.0</td>\n",
       "      <td>0.0</td>\n",
       "      <td>0.0</td>\n",
       "      <td>0.0</td>\n",
       "      <td>0.0</td>\n",
       "      <td>0.0</td>\n",
       "      <td>0.0</td>\n",
       "      <td>1.0</td>\n",
       "      <td>0.0</td>\n",
       "    </tr>\n",
       "    <tr>\n",
       "      <th>117897</th>\n",
       "      <td>50</td>\n",
       "      <td>29</td>\n",
       "      <td>6</td>\n",
       "      <td>2</td>\n",
       "      <td>0.0</td>\n",
       "      <td>1.0</td>\n",
       "      <td>0.0</td>\n",
       "      <td>0.0</td>\n",
       "      <td>0.0</td>\n",
       "      <td>0.0</td>\n",
       "      <td>...</td>\n",
       "      <td>0.0</td>\n",
       "      <td>0.0</td>\n",
       "      <td>0.0</td>\n",
       "      <td>0.0</td>\n",
       "      <td>0.0</td>\n",
       "      <td>0.0</td>\n",
       "      <td>1.0</td>\n",
       "      <td>0.0</td>\n",
       "      <td>0.0</td>\n",
       "      <td>0.0</td>\n",
       "    </tr>\n",
       "    <tr>\n",
       "      <th>117898</th>\n",
       "      <td>40</td>\n",
       "      <td>52</td>\n",
       "      <td>2</td>\n",
       "      <td>2</td>\n",
       "      <td>0.0</td>\n",
       "      <td>1.0</td>\n",
       "      <td>0.0</td>\n",
       "      <td>0.0</td>\n",
       "      <td>0.0</td>\n",
       "      <td>0.0</td>\n",
       "      <td>...</td>\n",
       "      <td>0.0</td>\n",
       "      <td>0.0</td>\n",
       "      <td>0.0</td>\n",
       "      <td>0.0</td>\n",
       "      <td>0.0</td>\n",
       "      <td>0.0</td>\n",
       "      <td>1.0</td>\n",
       "      <td>0.0</td>\n",
       "      <td>0.0</td>\n",
       "      <td>0.0</td>\n",
       "    </tr>\n",
       "    <tr>\n",
       "      <th>117899</th>\n",
       "      <td>17</td>\n",
       "      <td>38</td>\n",
       "      <td>1</td>\n",
       "      <td>2</td>\n",
       "      <td>0.0</td>\n",
       "      <td>1.0</td>\n",
       "      <td>1.0</td>\n",
       "      <td>0.0</td>\n",
       "      <td>0.0</td>\n",
       "      <td>0.0</td>\n",
       "      <td>...</td>\n",
       "      <td>0.0</td>\n",
       "      <td>0.0</td>\n",
       "      <td>0.0</td>\n",
       "      <td>0.0</td>\n",
       "      <td>0.0</td>\n",
       "      <td>0.0</td>\n",
       "      <td>0.0</td>\n",
       "      <td>0.0</td>\n",
       "      <td>0.0</td>\n",
       "      <td>1.0</td>\n",
       "    </tr>\n",
       "    <tr>\n",
       "      <th>117900</th>\n",
       "      <td>11</td>\n",
       "      <td>0</td>\n",
       "      <td>0</td>\n",
       "      <td>0</td>\n",
       "      <td>0.0</td>\n",
       "      <td>1.0</td>\n",
       "      <td>0.0</td>\n",
       "      <td>0.0</td>\n",
       "      <td>0.0</td>\n",
       "      <td>0.0</td>\n",
       "      <td>...</td>\n",
       "      <td>0.0</td>\n",
       "      <td>0.0</td>\n",
       "      <td>0.0</td>\n",
       "      <td>0.0</td>\n",
       "      <td>0.0</td>\n",
       "      <td>0.0</td>\n",
       "      <td>0.0</td>\n",
       "      <td>0.0</td>\n",
       "      <td>1.0</td>\n",
       "      <td>0.0</td>\n",
       "    </tr>\n",
       "  </tbody>\n",
       "</table>\n",
       "<p>117901 rows × 46 columns</p>\n",
       "</div>"
      ],
      "text/plain": [
       "        age  working_week_per_year  total_employed  vet_benefit  \\\n",
       "0        46                     52               5            2   \n",
       "1        39                     52               3            2   \n",
       "2        38                     52               6            2   \n",
       "3        56                     52               1            2   \n",
       "4         7                      0               0            0   \n",
       "...     ...                    ...             ...          ...   \n",
       "117896   13                      0               0            0   \n",
       "117897   50                     29               6            2   \n",
       "117898   40                     52               2            2   \n",
       "117899   17                     38               1            2   \n",
       "117900   11                      0               0            0   \n",
       "\n",
       "        gender_ Female  gender_ Male  education_ 10th grade  \\\n",
       "0                  0.0           1.0                    0.0   \n",
       "1                  0.0           1.0                    0.0   \n",
       "2                  0.0           1.0                    0.0   \n",
       "3                  1.0           0.0                    0.0   \n",
       "4                  1.0           0.0                    0.0   \n",
       "...                ...           ...                    ...   \n",
       "117896             1.0           0.0                    0.0   \n",
       "117897             0.0           1.0                    0.0   \n",
       "117898             0.0           1.0                    0.0   \n",
       "117899             0.0           1.0                    1.0   \n",
       "117900             0.0           1.0                    0.0   \n",
       "\n",
       "        education_ 11th grade  education_ 12th grade no diploma  \\\n",
       "0                         0.0                               0.0   \n",
       "1                         0.0                               0.0   \n",
       "2                         0.0                               0.0   \n",
       "3                         0.0                               0.0   \n",
       "4                         0.0                               0.0   \n",
       "...                       ...                               ...   \n",
       "117896                    0.0                               0.0   \n",
       "117897                    0.0                               0.0   \n",
       "117898                    0.0                               0.0   \n",
       "117899                    0.0                               0.0   \n",
       "117900                    0.0                               0.0   \n",
       "\n",
       "        education_ 1st 2nd 3rd or 4th grade  ...  \\\n",
       "0                                       0.0  ...   \n",
       "1                                       0.0  ...   \n",
       "2                                       0.0  ...   \n",
       "3                                       0.0  ...   \n",
       "4                                       0.0  ...   \n",
       "...                                     ...  ...   \n",
       "117896                                  0.0  ...   \n",
       "117897                                  0.0  ...   \n",
       "117898                                  0.0  ...   \n",
       "117899                                  0.0  ...   \n",
       "117900                                  0.0  ...   \n",
       "\n",
       "        is_hispanic_ Mexican-American  is_hispanic_ NA  \\\n",
       "0                                 0.0              0.0   \n",
       "1                                 0.0              0.0   \n",
       "2                                 0.0              0.0   \n",
       "3                                 0.0              0.0   \n",
       "4                                 0.0              0.0   \n",
       "...                               ...              ...   \n",
       "117896                            0.0              0.0   \n",
       "117897                            0.0              0.0   \n",
       "117898                            0.0              0.0   \n",
       "117899                            0.0              0.0   \n",
       "117900                            0.0              0.0   \n",
       "\n",
       "        is_hispanic_ Other Spanish  is_hispanic_ Puerto Rican  \\\n",
       "0                              0.0                        0.0   \n",
       "1                              0.0                        0.0   \n",
       "2                              0.0                        0.0   \n",
       "3                              0.0                        0.0   \n",
       "4                              0.0                        0.0   \n",
       "...                            ...                        ...   \n",
       "117896                         0.0                        0.0   \n",
       "117897                         0.0                        0.0   \n",
       "117898                         0.0                        0.0   \n",
       "117899                         0.0                        0.0   \n",
       "117900                         0.0                        0.0   \n",
       "\n",
       "        tax_status_ Head of household  tax_status_ Joint both 65+  \\\n",
       "0                                 0.0                         0.0   \n",
       "1                                 0.0                         0.0   \n",
       "2                                 0.0                         0.0   \n",
       "3                                 0.0                         0.0   \n",
       "4                                 0.0                         0.0   \n",
       "...                               ...                         ...   \n",
       "117896                            0.0                         0.0   \n",
       "117897                            0.0                         0.0   \n",
       "117898                            0.0                         0.0   \n",
       "117899                            0.0                         0.0   \n",
       "117900                            0.0                         0.0   \n",
       "\n",
       "        tax_status_ Joint both under 65  \\\n",
       "0                                   1.0   \n",
       "1                                   1.0   \n",
       "2                                   1.0   \n",
       "3                                   0.0   \n",
       "4                                   0.0   \n",
       "...                                 ...   \n",
       "117896                              0.0   \n",
       "117897                              1.0   \n",
       "117898                              1.0   \n",
       "117899                              0.0   \n",
       "117900                              0.0   \n",
       "\n",
       "        tax_status_ Joint one under 65 & one 65+  tax_status_ Nonfiler  \\\n",
       "0                                            0.0                   0.0   \n",
       "1                                            0.0                   0.0   \n",
       "2                                            0.0                   0.0   \n",
       "3                                            0.0                   0.0   \n",
       "4                                            0.0                   1.0   \n",
       "...                                          ...                   ...   \n",
       "117896                                       0.0                   1.0   \n",
       "117897                                       0.0                   0.0   \n",
       "117898                                       0.0                   0.0   \n",
       "117899                                       0.0                   0.0   \n",
       "117900                                       0.0                   1.0   \n",
       "\n",
       "        tax_status_ Single  \n",
       "0                      0.0  \n",
       "1                      0.0  \n",
       "2                      0.0  \n",
       "3                      1.0  \n",
       "4                      0.0  \n",
       "...                    ...  \n",
       "117896                 0.0  \n",
       "117897                 0.0  \n",
       "117898                 0.0  \n",
       "117899                 1.0  \n",
       "117900                 0.0  \n",
       "\n",
       "[117901 rows x 46 columns]"
      ]
     },
     "execution_count": 72,
     "metadata": {},
     "output_type": "execute_result"
    }
   ],
   "source": [
    "X_test_encoded"
   ]
  },
  {
   "cell_type": "markdown",
   "metadata": {},
   "source": [
    "\n",
    "# <span style=\"font-family:cursive;text-align:center\">Model Building</span>"
   ]
  },
  {
   "cell_type": "code",
   "execution_count": 73,
   "metadata": {
    "execution": {
     "iopub.execute_input": "2024-02-02T04:32:19.41068Z",
     "iopub.status.busy": "2024-02-02T04:32:19.410325Z",
     "iopub.status.idle": "2024-02-02T04:32:19.415648Z",
     "shell.execute_reply": "2024-02-02T04:32:19.414819Z",
     "shell.execute_reply.started": "2024-02-02T04:32:19.410624Z"
    }
   },
   "outputs": [],
   "source": [
    "models={\n",
    "    \"LR\":LogisticRegression(),\n",
    "    \"Knnclassifier\":KNeighborsClassifier(),\n",
    "    \"dt\":DecisionTreeClassifier(),\n",
    "    \"rf\":RandomForestClassifier()\n",
    "}\n"
   ]
  },
  {
   "cell_type": "code",
   "execution_count": 74,
   "metadata": {
    "execution": {
     "iopub.execute_input": "2024-02-02T04:32:19.416933Z",
     "iopub.status.busy": "2024-02-02T04:32:19.416567Z",
     "iopub.status.idle": "2024-02-02T04:32:19.425572Z",
     "shell.execute_reply": "2024-02-02T04:32:19.424627Z",
     "shell.execute_reply.started": "2024-02-02T04:32:19.41691Z"
    }
   },
   "outputs": [],
   "source": [
    "def model_evalutions(models,X_train,X_test,y_train,y_test,params=None):\n",
    "    f1_dict=dict()\n",
    "    final_models=dict()\n",
    "    for i in range(len(list(models))):\n",
    "        ## Fit the model\n",
    "        model=list(models.values())[i]\n",
    "        model.fit(X_train,y_train)\n",
    "        final_models[list(models.keys())[i]]=model\n",
    "        ## prediction with unseen data\n",
    "        y_pred=model.predict(X_test)\n",
    "        f1_dict[list(models.keys())[i]]=f1_score(y_test,y_pred)\n",
    "    return f1_dict,final_models"
   ]
  },
  {
   "cell_type": "code",
   "execution_count": 76,
   "metadata": {
    "execution": {
     "iopub.execute_input": "2024-02-02T04:32:19.426907Z",
     "iopub.status.busy": "2024-02-02T04:32:19.426608Z",
     "iopub.status.idle": "2024-02-02T04:34:13.45016Z",
     "shell.execute_reply": "2024-02-02T04:34:13.449235Z",
     "shell.execute_reply.started": "2024-02-02T04:32:19.426885Z"
    }
   },
   "outputs": [],
   "source": [
    "f1_score_dict,final_models=model_evalutions(models,X_train_encoded,X_test_encoded,y_train_encoded,\n",
    "                                            y_test_encoded)"
   ]
  },
  {
   "cell_type": "code",
   "execution_count": 77,
   "metadata": {
    "execution": {
     "iopub.execute_input": "2024-02-02T04:34:13.451522Z",
     "iopub.status.busy": "2024-02-02T04:34:13.451244Z",
     "iopub.status.idle": "2024-02-02T04:34:13.462229Z",
     "shell.execute_reply": "2024-02-02T04:34:13.461487Z",
     "shell.execute_reply.started": "2024-02-02T04:34:13.451498Z"
    }
   },
   "outputs": [
    {
     "data": {
      "text/plain": [
       "{'LR': LogisticRegression(),\n",
       " 'Knnclassifier': KNeighborsClassifier(),\n",
       " 'dt': DecisionTreeClassifier(),\n",
       " 'rf': RandomForestClassifier()}"
      ]
     },
     "execution_count": 77,
     "metadata": {},
     "output_type": "execute_result"
    }
   ],
   "source": [
    "final_models"
   ]
  },
  {
   "cell_type": "code",
   "execution_count": 78,
   "metadata": {
    "execution": {
     "iopub.execute_input": "2024-02-02T04:34:13.463799Z",
     "iopub.status.busy": "2024-02-02T04:34:13.463171Z",
     "iopub.status.idle": "2024-02-02T04:34:13.477469Z",
     "shell.execute_reply": "2024-02-02T04:34:13.476575Z",
     "shell.execute_reply.started": "2024-02-02T04:34:13.463774Z"
    }
   },
   "outputs": [
    {
     "data": {
      "text/plain": [
       "{'LR': 0.8887092955860864,\n",
       " 'Knnclassifier': 0.8882641375261499,\n",
       " 'dt': 0.8971042406933882,\n",
       " 'rf': 0.9055783706959949}"
      ]
     },
     "execution_count": 78,
     "metadata": {},
     "output_type": "execute_result"
    }
   ],
   "source": [
    "f1_score_dict"
   ]
  },
  {
   "cell_type": "markdown",
   "metadata": {},
   "source": [
    "\n",
    "\n",
    "    1. Out of the all Classifer Algorithms **Random Forest Algorithm** Performance is best\n",
    "    2. Performing Hyper-Parameter Tunning inorder to improve the accuracy \n",
    "\n"
   ]
  },
  {
   "cell_type": "code",
   "execution_count": 79,
   "metadata": {
    "execution": {
     "iopub.execute_input": "2024-02-02T04:34:13.478795Z",
     "iopub.status.busy": "2024-02-02T04:34:13.478485Z",
     "iopub.status.idle": "2024-02-02T04:34:13.488507Z",
     "shell.execute_reply": "2024-02-02T04:34:13.487636Z",
     "shell.execute_reply.started": "2024-02-02T04:34:13.478772Z"
    }
   },
   "outputs": [],
   "source": [
    "params={\n",
    " 'max_depth': [40,50,60],\n",
    " 'min_samples_leaf': [2],\n",
    " 'min_samples_split': [10],\n",
    " 'n_estimators': [100,200,300]}\n",
    "\n",
    "model=final_models['rf']"
   ]
  },
  {
   "cell_type": "code",
   "execution_count": 80,
   "metadata": {
    "execution": {
     "iopub.execute_input": "2024-02-02T04:34:13.490582Z",
     "iopub.status.busy": "2024-02-02T04:34:13.490219Z",
     "iopub.status.idle": "2024-02-02T04:39:48.633816Z",
     "shell.execute_reply": "2024-02-02T04:39:48.6328Z",
     "shell.execute_reply.started": "2024-02-02T04:34:13.490554Z"
    }
   },
   "outputs": [
    {
     "name": "stdout",
     "output_type": "stream",
     "text": [
      "Fitting 5 folds for each of 1 candidates, totalling 5 fits\n"
     ]
    },
    {
     "data": {
      "text/plain": [
       "RandomizedSearchCV(estimator=RandomForestClassifier(), n_iter=1,\n",
       "                   param_distributions={'max_depth': [40, 50, 60],\n",
       "                                        'min_samples_leaf': [2],\n",
       "                                        'min_samples_split': [10],\n",
       "                                        'n_estimators': [100, 200, 300]},\n",
       "                   scoring='accuracy', verbose=1)"
      ]
     },
     "execution_count": 80,
     "metadata": {},
     "output_type": "execute_result"
    }
   ],
   "source": [
    "final_model=RandomizedSearchCV(model,param_distributions=params,verbose=1,n_iter=1,scoring='accuracy')\n",
    "final_model.fit(X_train_encoded,y_train_encoded)"
   ]
  },
  {
   "cell_type": "code",
   "execution_count": 81,
   "metadata": {
    "execution": {
     "iopub.execute_input": "2024-02-02T04:39:48.635815Z",
     "iopub.status.busy": "2024-02-02T04:39:48.63546Z",
     "iopub.status.idle": "2024-02-02T04:39:48.643566Z",
     "shell.execute_reply": "2024-02-02T04:39:48.642845Z",
     "shell.execute_reply.started": "2024-02-02T04:39:48.635781Z"
    }
   },
   "outputs": [
    {
     "name": "stdout",
     "output_type": "stream",
     "text": [
      "Best Model: RandomForestClassifier(max_depth=50, min_samples_leaf=2, min_samples_split=10,\n",
      "                       n_estimators=200)\n",
      "Score: 0.9078120372809506\n"
     ]
    }
   ],
   "source": [
    "print(\"Best Model:\",final_model.best_estimator_)\n",
    "print(\"Score:\",final_model.best_score_)"
   ]
  },
  {
   "cell_type": "markdown",
   "metadata": {},
   "source": [
    "*After hyperparameter Tunning - Model Accuracy is slightly improved from 90.50% to 90.70%*"
   ]
  },
  {
   "cell_type": "markdown",
   "metadata": {},
   "source": [
    "\n",
    "# <span style=\"font-family:cursive;text-align:center\">Model Evaluation</span>"
   ]
  },
  {
   "cell_type": "code",
   "execution_count": 82,
   "metadata": {
    "execution": {
     "iopub.execute_input": "2024-02-02T04:39:48.64475Z",
     "iopub.status.busy": "2024-02-02T04:39:48.644467Z",
     "iopub.status.idle": "2024-02-02T04:39:53.279624Z",
     "shell.execute_reply": "2024-02-02T04:39:53.278721Z",
     "shell.execute_reply.started": "2024-02-02T04:39:48.644729Z"
    }
   },
   "outputs": [
    {
     "data": {
      "text/plain": [
       "array([[51799,  7224],\n",
       "       [ 3587, 55291]], dtype=int64)"
      ]
     },
     "execution_count": 82,
     "metadata": {},
     "output_type": "execute_result"
    }
   ],
   "source": [
    "# choosing Best Model\n",
    "Best_model=final_model.best_estimator_\n",
    "y_pred=Best_model.predict(X_test_encoded)\n",
    "cf_matrix=confusion_matrix(y_test_encoded,y_pred)\n",
    "cf_matrix"
   ]
  },
  {
   "cell_type": "code",
   "execution_count": 83,
   "metadata": {
    "execution": {
     "iopub.execute_input": "2024-02-02T04:39:53.281117Z",
     "iopub.status.busy": "2024-02-02T04:39:53.280793Z",
     "iopub.status.idle": "2024-02-02T04:39:53.497212Z",
     "shell.execute_reply": "2024-02-02T04:39:53.496422Z",
     "shell.execute_reply.started": "2024-02-02T04:39:53.281088Z"
    }
   },
   "outputs": [
    {
     "data": {
      "image/png": "[encoded data removed]",
      "text/plain": [
       "<Figure size 432x288 with 2 Axes>"
      ]
     },
     "metadata": {},
     "output_type": "display_data"
    }
   ],
   "source": [
    "ax=sns.heatmap(cf_matrix,annot=True,cmap=\"Blues\");\n",
    "ax.set_title('Seaborn Confusion Matrix with labels\\n\\n');\n",
    "ax.set_xlabel('\\nPredicted Values')\n",
    "ax.set_ylabel('Actual Values ')\n",
    "\n",
    "## Ticket labels - List must be in alphabetical order\n",
    "ax.xaxis.set_ticklabels(['False','True'])\n",
    "ax.yaxis.set_ticklabels(['False','True'])\n",
    "plt.show()"
   ]
  },
  {
   "cell_type": "code",
   "execution_count": 84,
   "metadata": {
    "execution": {
     "iopub.execute_input": "2024-02-02T04:39:53.504928Z",
     "iopub.status.busy": "2024-02-02T04:39:53.504614Z",
     "iopub.status.idle": "2024-02-02T04:39:53.731975Z",
     "shell.execute_reply": "2024-02-02T04:39:53.730676Z",
     "shell.execute_reply.started": "2024-02-02T04:39:53.504907Z"
    }
   },
   "outputs": [
    {
     "data": {
      "text/plain": [
       "<sklearn.metrics._plot.roc_curve.RocCurveDisplay at 0x17b8340d9a0>"
      ]
     },
     "execution_count": 84,
     "metadata": {},
     "output_type": "execute_result"
    },
    {
     "data": {
      "image/png": "[encoded data removed]",
      "text/plain": [
       "<Figure size 432x288 with 1 Axes>"
      ]
     },
     "metadata": {},
     "output_type": "display_data"
    }
   ],
   "source": [
    "fpr,tpr,thresh=roc_curve(y_test_encoded,y_pred)\n",
    "roc_auc=roc_auc_score(y_test_encoded,y_pred)\n",
    "display=RocCurveDisplay(fpr=fpr,tpr=tpr,roc_auc=roc_auc)\n",
    "display.plot()"
   ]
  },
  {
   "cell_type": "markdown",
   "metadata": {},
   "source": [
    "### Observations \n",
    "* AUC = 0.91 which says that model is able to classify the Two different Classes by 91% time Correctly.\n",
    "* \"The More the Area Under the Curve the Better the Model\""
   ]
  },
  {
   "cell_type": "markdown",
   "metadata": {},
   "source": [
    "## Model Saving"
   ]
  },
  {
   "cell_type": "code",
   "execution_count": 85,
   "metadata": {
    "execution": {
     "iopub.execute_input": "2024-02-02T04:39:53.734263Z",
     "iopub.status.busy": "2024-02-02T04:39:53.733139Z",
     "iopub.status.idle": "2024-02-02T04:39:53.739105Z",
     "shell.execute_reply": "2024-02-02T04:39:53.73784Z",
     "shell.execute_reply.started": "2024-02-02T04:39:53.734227Z"
    }
   },
   "outputs": [],
   "source": [
    "# joblib.dump(Best_model,\"ML_Model.joblib\")\n",
    "# joblib.dump(encoder,\"OHE_enc.joblib\")"
   ]
  },
  {
   "cell_type": "code",
   "execution_count": null,
   "metadata": {},
   "outputs": [],
   "source": []
  },
  {
   "cell_type": "code",
   "execution_count": null,
   "metadata": {},
   "outputs": [],
   "source": []
  },
  {
   "cell_type": "code",
   "execution_count": null,
   "metadata": {},
   "outputs": [],
   "source": []
  }
 ],
 "metadata": {
  "kernelspec": {
   "display_name": "Python 3",
   "language": "python",
   "name": "python3"
  },
  "language_info": {
   "codemirror_mode": {
    "name": "ipython",
    "version": 3
   },
   "file_extension": ".py",
   "mimetype": "text/x-python",
   "name": "python",
   "nbconvert_exporter": "python",
   "pygments_lexer": "ipython3",
   "version": "3.8.10"
  }
 },
 "nbformat": 4,
 "nbformat_minor": 4
}
